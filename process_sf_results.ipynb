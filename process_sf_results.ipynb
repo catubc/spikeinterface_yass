{
 "cells": [
  {
   "cell_type": "code",
   "execution_count": 1,
   "metadata": {},
   "outputs": [
    {
     "name": "stderr",
     "output_type": "stream",
     "text": [
      "<frozen importlib._bootstrap>:219: RuntimeWarning: numpy.ufunc size changed, may indicate binary incompatibility. Expected 192 from C header, got 216 from PyObject\n",
      "<frozen importlib._bootstrap>:219: RuntimeWarning: numpy.ufunc size changed, may indicate binary incompatibility. Expected 192 from C header, got 216 from PyObject\n",
      "<frozen importlib._bootstrap>:219: RuntimeWarning: numpy.ufunc size changed, may indicate binary incompatibility. Expected 192 from C header, got 216 from PyObject\n"
     ]
    }
   ],
   "source": [
    "%load_ext autoreload\n",
    "%autoreload 2\n",
    "\n",
    "from sfsortingresults import SFSortingResults\n",
    "import spikewidgets as sw\n",
    "\n",
    "import spikeextractors as se\n",
    "\n",
    "import os\n",
    "import yaml\n",
    "\n",
    "#\n",
    "from ProcessSorts import ProcessSorts\n"
   ]
  },
  {
   "cell_type": "markdown",
   "metadata": {},
   "source": [
    "### Instantiate a `SFSortingResults` object"
   ]
  },
  {
   "cell_type": "markdown",
   "metadata": {},
   "source": [
    "The `SFSortingResults` object allows you to easily retrieve studies, recording names, and available sorted results:"
   ]
  },
  {
   "cell_type": "code",
   "execution_count": 2,
   "metadata": {},
   "outputs": [
    {
     "data": {
      "text/plain": [
       "0"
      ]
     },
     "execution_count": 2,
     "metadata": {},
     "output_type": "execute_result"
    }
   ],
   "source": [
    "# start kachery daemon\n",
    "os.system(\"kachery-p2p-start-daemon --label test & \")\n",
    "\n",
    "# join correct channel\n",
    "os.system(\"kachery-p2p-join-channel https://gist.githubusercontent.com/magland/0a732d4562ec87d0f1b9baf7eed2718d/raw/spikeforest-download-channel.yaml &\")\n"
   ]
  },
  {
   "cell_type": "code",
   "execution_count": 2,
   "metadata": {},
   "outputs": [
    {
     "name": "stdout",
     "output_type": "stream",
     "text": [
      "Found 5094 sorting outputs\n"
     ]
    }
   ],
   "source": [
    "# \n",
    "sfresults = SFSortingResults()\n",
    "\n",
    "# Optional \n",
    "# study_names = sfresults.get_study_names()\n",
    "# print(f\"Available studies:\\n{study_names}\")\n"
   ]
  },
  {
   "cell_type": "code",
   "execution_count": 3,
   "metadata": {
    "scrolled": true
   },
   "outputs": [
    {
     "name": "stdout",
     "output_type": "stream",
     "text": [
      "/media/cat/1TB/spikesorting/sorting_data/recordings_yass_sorted/paired_mea64c_20170622_patch1.npz\n",
      "spikesorting paired_mea64c 20170622_patch1\n",
      "/media/cat/1TB/spikesorting/sorting_analysis/\n",
      "Recording 20170622_patch1 has the following sorting outputs:\n",
      "['HerdingSpikes2', 'IronClust', 'JRClust', 'KiloSort', 'KiloSort2', 'Klusta', 'MountainSort4', 'SpykingCircus', 'Tridesclous']\n",
      "sorter selected:  HerdingSpikes2\n",
      "WARNING: load_object() is deprecated. Use load_json() instead.\n",
      "\n",
      "sorter selected:  IronClust\n",
      "WARNING: load_object() is deprecated. Use load_json() instead.\n",
      "\n",
      "sorter selected:  JRClust\n",
      "WARNING: load_object() is deprecated. Use load_json() instead.\n",
      "error:  'float' object has no attribute 'startswith'\n",
      "\n",
      "sorter selected:  KiloSort\n",
      "WARNING: load_object() is deprecated. Use load_json() instead.\n",
      "\n",
      "sorter selected:  KiloSort2\n",
      "WARNING: load_object() is deprecated. Use load_json() instead.\n",
      "\n",
      "sorter selected:  Klusta\n",
      "WARNING: load_object() is deprecated. Use load_json() instead.\n",
      "\n",
      "sorter selected:  MountainSort4\n",
      "WARNING: load_object() is deprecated. Use load_json() instead.\n",
      "\n",
      "sorter selected:  SpykingCircus\n",
      "WARNING: load_object() is deprecated. Use load_json() instead.\n",
      "\n",
      "sorter selected:  Tridesclous\n",
      "WARNING: load_object() is deprecated. Use load_json() instead.\n",
      "\n",
      "WARNING: load_object() is deprecated. Use load_json() instead.\n"
     ]
    }
   ],
   "source": [
    "import glob2\n",
    "import numpy as np\n",
    "\n",
    "fnames_sorted_yass = glob2.glob('/media/cat/1TB/spikesorting/sorting_data/recordings_yass_sorted/*.npz')\n",
    "\n",
    "# \n",
    "#for fname in fnames_sorted_yass:\n",
    "    #id_ = 1\n",
    "    #fname_yass = fnames_sorted_yass[id_]\n",
    "\n",
    "fname = fnames_sorted_yass[0]\n",
    "print (fname)\n",
    "try:\n",
    "\n",
    "    # make save object\n",
    "    p = ProcessSorts(fname,\n",
    "                     sfresults)\n",
    "\n",
    "    p.extract_all_sorts()\n",
    "except:\n",
    "    print (\"error\")"
   ]
  },
  {
   "cell_type": "code",
   "execution_count": 5,
   "metadata": {},
   "outputs": [
    {
     "ename": "AssertionError",
     "evalue": "Inconsintent sampling frequency among sorting list",
     "output_type": "error",
     "traceback": [
      "\u001b[0;31m---------------------------------------------------------------------------\u001b[0m",
      "\u001b[0;31mAssertionError\u001b[0m                            Traceback (most recent call last)",
      "\u001b[0;32m<ipython-input-5-4c84e92ce97d>\u001b[0m in \u001b[0;36m<module>\u001b[0;34m\u001b[0m\n\u001b[1;32m      6\u001b[0m \u001b[0;34m\u001b[0m\u001b[0m\n\u001b[1;32m      7\u001b[0m \u001b[0;31m#\u001b[0m\u001b[0;34m\u001b[0m\u001b[0;34m\u001b[0m\u001b[0;34m\u001b[0m\u001b[0m\n\u001b[0;32m----> 8\u001b[0;31m study.run_comparisons(exhaustive_gt=True, \n\u001b[0m\u001b[1;32m      9\u001b[0m                       \u001b[0mmatch_score\u001b[0m\u001b[0;34m=\u001b[0m\u001b[0;36m0.0\u001b[0m\u001b[0;34m,\u001b[0m\u001b[0;34m\u001b[0m\u001b[0;34m\u001b[0m\u001b[0m\n\u001b[1;32m     10\u001b[0m                       delta_time=3.0)\n",
      "\u001b[0;32m~/anaconda3/envs/sf_yass/lib/python3.8/site-packages/spikecomparison/groundtruthstudy.py\u001b[0m in \u001b[0;36mrun_comparisons\u001b[0;34m(self, exhaustive_gt, **kwargs)\u001b[0m\n\u001b[1;32m     96\u001b[0m         \u001b[0;32mfor\u001b[0m \u001b[0mrec_name\u001b[0m\u001b[0;34m,\u001b[0m \u001b[0msorter_name\u001b[0m\u001b[0;34m,\u001b[0m \u001b[0msorting\u001b[0m \u001b[0;32min\u001b[0m \u001b[0miter_computed_sorting\u001b[0m\u001b[0;34m(\u001b[0m\u001b[0mself\u001b[0m\u001b[0;34m.\u001b[0m\u001b[0mstudy_folder\u001b[0m\u001b[0;34m)\u001b[0m\u001b[0;34m:\u001b[0m\u001b[0;34m\u001b[0m\u001b[0;34m\u001b[0m\u001b[0m\n\u001b[1;32m     97\u001b[0m             \u001b[0mgt_sorting\u001b[0m \u001b[0;34m=\u001b[0m \u001b[0mself\u001b[0m\u001b[0;34m.\u001b[0m\u001b[0mget_ground_truth\u001b[0m\u001b[0;34m(\u001b[0m\u001b[0mrec_name\u001b[0m\u001b[0;34m)\u001b[0m\u001b[0;34m\u001b[0m\u001b[0;34m\u001b[0m\u001b[0m\n\u001b[0;32m---> 98\u001b[0;31m             \u001b[0msc\u001b[0m \u001b[0;34m=\u001b[0m \u001b[0mcompare_sorter_to_ground_truth\u001b[0m\u001b[0;34m(\u001b[0m\u001b[0mgt_sorting\u001b[0m\u001b[0;34m,\u001b[0m \u001b[0msorting\u001b[0m\u001b[0;34m,\u001b[0m \u001b[0mexhaustive_gt\u001b[0m\u001b[0;34m=\u001b[0m\u001b[0mexhaustive_gt\u001b[0m\u001b[0;34m,\u001b[0m \u001b[0;34m**\u001b[0m\u001b[0mkwargs\u001b[0m\u001b[0;34m)\u001b[0m\u001b[0;34m\u001b[0m\u001b[0;34m\u001b[0m\u001b[0m\n\u001b[0m\u001b[1;32m     99\u001b[0m             \u001b[0mself\u001b[0m\u001b[0;34m.\u001b[0m\u001b[0mcomparisons\u001b[0m\u001b[0;34m[\u001b[0m\u001b[0;34m(\u001b[0m\u001b[0mrec_name\u001b[0m\u001b[0;34m,\u001b[0m \u001b[0msorter_name\u001b[0m\u001b[0;34m)\u001b[0m\u001b[0;34m]\u001b[0m \u001b[0;34m=\u001b[0m \u001b[0msc\u001b[0m\u001b[0;34m\u001b[0m\u001b[0;34m\u001b[0m\u001b[0m\n\u001b[1;32m    100\u001b[0m         \u001b[0mself\u001b[0m\u001b[0;34m.\u001b[0m\u001b[0mexhaustive_gt\u001b[0m \u001b[0;34m=\u001b[0m \u001b[0mexhaustive_gt\u001b[0m\u001b[0;34m\u001b[0m\u001b[0;34m\u001b[0m\u001b[0m\n",
      "\u001b[0;32m~/anaconda3/envs/sf_yass/lib/python3.8/site-packages/spikecomparison/groundtruthcomparison.py\u001b[0m in \u001b[0;36mcompare_sorter_to_ground_truth\u001b[0;34m(gt_sorting, tested_sorting, gt_name, tested_name, delta_time, sampling_frequency, match_score, chance_score, well_detected_score, redundant_score, overmerged_score, exhaustive_gt, match_mode, n_jobs, compute_labels, compute_misclassifications, verbose)\u001b[0m\n\u001b[1;32m    478\u001b[0m         \u001b[0mThe\u001b[0m \u001b[0mSortingComparison\u001b[0m \u001b[0mobject\u001b[0m\u001b[0;34m\u001b[0m\u001b[0;34m\u001b[0m\u001b[0m\n\u001b[1;32m    479\u001b[0m     '''\n\u001b[0;32m--> 480\u001b[0;31m     return GroundTruthComparison(gt_sorting=gt_sorting, tested_sorting=tested_sorting, gt_name=gt_name,\n\u001b[0m\u001b[1;32m    481\u001b[0m                                  \u001b[0mtested_name\u001b[0m\u001b[0;34m=\u001b[0m\u001b[0mtested_name\u001b[0m\u001b[0;34m,\u001b[0m \u001b[0mdelta_time\u001b[0m\u001b[0;34m=\u001b[0m\u001b[0mdelta_time\u001b[0m\u001b[0;34m,\u001b[0m \u001b[0msampling_frequency\u001b[0m\u001b[0;34m=\u001b[0m\u001b[0msampling_frequency\u001b[0m\u001b[0;34m,\u001b[0m\u001b[0;34m\u001b[0m\u001b[0;34m\u001b[0m\u001b[0m\n\u001b[1;32m    482\u001b[0m                                  \u001b[0mmatch_score\u001b[0m\u001b[0;34m=\u001b[0m\u001b[0mmatch_score\u001b[0m\u001b[0;34m,\u001b[0m \u001b[0mredundant_score\u001b[0m\u001b[0;34m=\u001b[0m\u001b[0mredundant_score\u001b[0m\u001b[0;34m,\u001b[0m \u001b[0mchance_score\u001b[0m\u001b[0;34m=\u001b[0m\u001b[0mchance_score\u001b[0m\u001b[0;34m,\u001b[0m\u001b[0;34m\u001b[0m\u001b[0;34m\u001b[0m\u001b[0m\n",
      "\u001b[0;32m~/anaconda3/envs/sf_yass/lib/python3.8/site-packages/spikecomparison/groundtruthcomparison.py\u001b[0m in \u001b[0;36m__init__\u001b[0;34m(self, gt_sorting, tested_sorting, gt_name, tested_name, delta_time, sampling_frequency, match_score, well_detected_score, redundant_score, overmerged_score, chance_score, exhaustive_gt, n_jobs, match_mode, compute_labels, compute_misclassifications, verbose)\u001b[0m\n\u001b[1;32m     35\u001b[0m         \u001b[0;32mif\u001b[0m \u001b[0mtested_name\u001b[0m \u001b[0;32mis\u001b[0m \u001b[0;32mNone\u001b[0m\u001b[0;34m:\u001b[0m\u001b[0;34m\u001b[0m\u001b[0;34m\u001b[0m\u001b[0m\n\u001b[1;32m     36\u001b[0m             \u001b[0mtested_name\u001b[0m \u001b[0;34m=\u001b[0m \u001b[0;34m'tested'\u001b[0m\u001b[0;34m\u001b[0m\u001b[0;34m\u001b[0m\u001b[0m\n\u001b[0;32m---> 37\u001b[0;31m         BaseTwoSorterComparison.__init__(self, gt_sorting, tested_sorting, sorting1_name=gt_name,\n\u001b[0m\u001b[1;32m     38\u001b[0m                                          \u001b[0msorting2_name\u001b[0m\u001b[0;34m=\u001b[0m\u001b[0mtested_name\u001b[0m\u001b[0;34m,\u001b[0m \u001b[0mdelta_time\u001b[0m\u001b[0;34m=\u001b[0m\u001b[0mdelta_time\u001b[0m\u001b[0;34m,\u001b[0m\u001b[0;34m\u001b[0m\u001b[0;34m\u001b[0m\u001b[0m\n\u001b[1;32m     39\u001b[0m                                          \u001b[0msampling_frequency\u001b[0m\u001b[0;34m=\u001b[0m\u001b[0msampling_frequency\u001b[0m\u001b[0;34m,\u001b[0m \u001b[0mmatch_score\u001b[0m\u001b[0;34m=\u001b[0m\u001b[0mmatch_score\u001b[0m\u001b[0;34m,\u001b[0m\u001b[0;34m\u001b[0m\u001b[0;34m\u001b[0m\u001b[0m\n",
      "\u001b[0;32m~/anaconda3/envs/sf_yass/lib/python3.8/site-packages/spikecomparison/basecomparison.py\u001b[0m in \u001b[0;36m__init__\u001b[0;34m(self, sorting1, sorting2, sorting1_name, sorting2_name, delta_time, sampling_frequency, match_score, chance_score, n_jobs, verbose)\u001b[0m\n\u001b[1;32m     69\u001b[0m         \u001b[0mname_list\u001b[0m \u001b[0;34m=\u001b[0m \u001b[0;34m[\u001b[0m\u001b[0msorting1_name\u001b[0m\u001b[0;34m,\u001b[0m \u001b[0msorting2_name\u001b[0m\u001b[0;34m]\u001b[0m\u001b[0;34m\u001b[0m\u001b[0;34m\u001b[0m\u001b[0m\n\u001b[1;32m     70\u001b[0m \u001b[0;34m\u001b[0m\u001b[0m\n\u001b[0;32m---> 71\u001b[0;31m         BaseComparison.__init__(self, sorting_list, name_list=name_list, delta_time=delta_time,\n\u001b[0m\u001b[1;32m     72\u001b[0m                                 \u001b[0msampling_frequency\u001b[0m\u001b[0;34m=\u001b[0m\u001b[0msampling_frequency\u001b[0m\u001b[0;34m,\u001b[0m \u001b[0mmatch_score\u001b[0m\u001b[0;34m=\u001b[0m\u001b[0mmatch_score\u001b[0m\u001b[0;34m,\u001b[0m\u001b[0;34m\u001b[0m\u001b[0;34m\u001b[0m\u001b[0m\n\u001b[1;32m     73\u001b[0m                                 chance_score=chance_score, verbose=verbose, n_jobs=n_jobs)\n",
      "\u001b[0;32m~/anaconda3/envs/sf_yass/lib/python3.8/site-packages/spikecomparison/basecomparison.py\u001b[0m in \u001b[0;36m__init__\u001b[0;34m(self, sorting_list, name_list, delta_time, sampling_frequency, match_score, chance_score, n_jobs, verbose)\u001b[0m\n\u001b[1;32m     40\u001b[0m                 \u001b[0mdelta_freq_ratio\u001b[0m \u001b[0;34m=\u001b[0m \u001b[0mnp\u001b[0m\u001b[0;34m.\u001b[0m\u001b[0mabs\u001b[0m\u001b[0;34m(\u001b[0m\u001b[0msampling_freqs_not_none\u001b[0m \u001b[0;34m-\u001b[0m \u001b[0msf0\u001b[0m\u001b[0;34m)\u001b[0m \u001b[0;34m/\u001b[0m \u001b[0msf0\u001b[0m\u001b[0;34m\u001b[0m\u001b[0;34m\u001b[0m\u001b[0m\n\u001b[1;32m     41\u001b[0m                 \u001b[0;31m# tolerence of 0.1%\u001b[0m\u001b[0;34m\u001b[0m\u001b[0;34m\u001b[0m\u001b[0;34m\u001b[0m\u001b[0m\n\u001b[0;32m---> 42\u001b[0;31m                 \u001b[0;32massert\u001b[0m \u001b[0mnp\u001b[0m\u001b[0;34m.\u001b[0m\u001b[0mall\u001b[0m\u001b[0;34m(\u001b[0m\u001b[0mdelta_freq_ratio\u001b[0m \u001b[0;34m<\u001b[0m \u001b[0;36m0.001\u001b[0m\u001b[0;34m)\u001b[0m\u001b[0;34m,\u001b[0m \u001b[0;34m\"Inconsintent sampling frequency among sorting list\"\u001b[0m\u001b[0;34m\u001b[0m\u001b[0;34m\u001b[0m\u001b[0m\n\u001b[0m\u001b[1;32m     43\u001b[0m \u001b[0;34m\u001b[0m\u001b[0m\n\u001b[1;32m     44\u001b[0m             \u001b[0msampling_frequency\u001b[0m \u001b[0;34m=\u001b[0m \u001b[0msampling_freqs_not_none\u001b[0m\u001b[0;34m[\u001b[0m\u001b[0;36m0\u001b[0m\u001b[0;34m]\u001b[0m\u001b[0;34m\u001b[0m\u001b[0;34m\u001b[0m\u001b[0m\n",
      "\u001b[0;31mAssertionError\u001b[0m: Inconsintent sampling frequency among sorting list"
     ]
    }
   ],
   "source": [
    "from spikecomparison import GroundTruthStudy\n",
    "\n",
    "#\n",
    "study_folder = '/media/cat/1TB/spikesorting/sorting_analysis/paired_mea64c/20170622_patch1/'\n",
    "study = GroundTruthStudy(study_folder)\n",
    "\n",
    "# \n",
    "study.run_comparisons(exhaustive_gt=True, \n",
    "                      match_score=0.0,\n",
    "                      delta_time=3.0)\n",
    "\n",
    "# \n",
    "comparisons = study.comparisons\n",
    "dataframes = study.aggregate_dataframes()"
   ]
  },
  {
   "cell_type": "code",
   "execution_count": 10,
   "metadata": {},
   "outputs": [
    {
     "name": "stdout",
     "output_type": "stream",
     "text": [
      "rec0[#]HerdingSpikes2.npz [20000.]\n",
      "rec0[#]MountainSort4.npz [20000.]\n",
      "rec0[#]KiloSort2.npz [20000.]\n",
      "rec0[#]SpykingCircus.npz [20000.]\n",
      "rec0[#]KiloSort.npz [20000.]\n",
      "rec0[#]IronClust.npz [20000.]\n",
      "rec0[#]Klusta.npz [20000.]\n",
      "rec0[#]yass.npz [20000.]\n",
      "rec0[#]Tridesclous.npz [20000.]\n",
      "gt:  [20000.]\n"
     ]
    }
   ],
   "source": [
    "fnames = glob2.glob('/media/cat/1TB/spikesorting/sorting_analysis/paired_mea64c/20170622_patch1/sortings/*.npz')\n",
    "\n",
    "for fname in fnames:\n",
    "    data = np.load(fname)\n",
    "    sf = data['sampling_frequency']\n",
    "    print (os.path.split(fname)[1], sf)\n",
    "    \n",
    "gt_data = np.load('/media/cat/1TB/spikesorting/sorting_analysis/paired_mea64c/20170622_patch1/ground_truth/rec0.npz')\n",
    "sf = data['sampling_frequency']\n",
    "print (\"gt: \", sf)\n"
   ]
  },
  {
   "cell_type": "code",
   "execution_count": null,
   "metadata": {},
   "outputs": [],
   "source": []
  }
 ],
 "metadata": {
  "kernelspec": {
   "display_name": "Python 3",
   "language": "python",
   "name": "python3"
  },
  "language_info": {
   "codemirror_mode": {
    "name": "ipython",
    "version": 3
   },
   "file_extension": ".py",
   "mimetype": "text/x-python",
   "name": "python",
   "nbconvert_exporter": "python",
   "pygments_lexer": "ipython3",
   "version": "3.8.3"
  }
 },
 "nbformat": 4,
 "nbformat_minor": 5
}
