{
 "cells": [
  {
   "cell_type": "markdown",
   "metadata": {},
   "source": [
    "# Ground-truth comparison and ensemble sorting of a synthetic Neuropixels recording\n",
    "\n",
    "This notebook reproduces figures 2 and 3 from the paper [**SpikeInterface, a unified framework for spike sorting**](https://www.biorxiv.org/content/10.1101/796599v2).\n",
    "\n",
    "The data set for this notebook is available on the Dandi Archive: [https://gui.dandiarchive.org/#/dandiset/000034](https://gui.dandiarchive.org/#/dandiset/000034).\n",
    "\n",
    "The entire data archive can be downloaded with the command `dandi download https://gui.dandiarchive.org/#/dandiset/000034/draft` (about 75GB).\n",
    "\n",
    "The data file required to run the code is:\n",
    "- the raw data: [sub-MEAREC-250neuron-Neuropixels_ecephys.nwb](https://girder.dandiarchive.org/api/v1/item/5f2c0e33ee8baa608594a16b/download)\n",
    "\n",
    "This file should be in the same directory where the notebook is located (otherwise adjust paths below).\n",
    "\n",
    "Author: [Matthias Hennig](http://homepages.inf.ed.ac.uk/mhennig/), University of Edinburgh, 22 Aug 2020"
   ]
  },
  {
   "cell_type": "markdown",
   "metadata": {},
   "source": [
    "### Requirements\n",
    "\n",
    "For this need you will need the following Python packages:\n",
    "\n",
    "- numpy\n",
    "- pandas\n",
    "- matplotlib\n",
    "- seaborn\n",
    "- spikeinterface\n",
    "- dandi\n",
    "- matplotlib-venn\n",
    "\n",
    "To run the MATLAB-based sorters, you would also need a MATLAB license.\n",
    "For other sorters, please refer to the documentation on [how to install sorters](https://spikeinterface.readthedocs.io/en/latest/sortersinfo.html)."
   ]
  },
  {
   "cell_type": "code",
   "execution_count": 1,
   "metadata": {},
   "outputs": [
    {
     "data": {
      "application/javascript": [
       "IPython.notebook.set_autosave_interval(180000)"
      ]
     },
     "metadata": {},
     "output_type": "display_data"
    },
    {
     "name": "stdout",
     "output_type": "stream",
     "text": [
      "Autosaving every 180 seconds\n"
     ]
    },
    {
     "data": {
      "text/html": [
       "<style>.container { width:100% !important; }</style>"
      ],
      "text/plain": [
       "<IPython.core.display.HTML object>"
      ]
     },
     "metadata": {},
     "output_type": "display_data"
    },
    {
     "name": "stdout",
     "output_type": "stream",
     "text": [
      "spikeinterface: 0.12.0\n",
      "  * spikeextractor: 0.9.6\n",
      "  * spiketoolkit: 0.7.5\n",
      "  * spikesorters: 0.4.4\n",
      "  * spikecomparison: 0.3.2\n",
      "  * spikewidgets: 0.5.3\n",
      "\n",
      "yass: 2.0\n"
     ]
    }
   ],
   "source": [
    "import os\n",
    "\n",
    "import matplotlib\n",
    "#matplotlib.use('Agg')\n",
    "\n",
    "%load_ext autoreload\n",
    "%autoreload 2\n",
    "\n",
    "%matplotlib tk\n",
    "%autosave 180\n",
    "import matplotlib.pyplot as plt\n",
    "from IPython.core.display import display, HTML\n",
    "display(HTML(\"<style>.container { width:100% !important; }</style>\"))\n",
    "\n",
    "\n",
    "# Matlab sorter paths:\n",
    "# change these to match your environment\n",
    "# os.environ[\"IRONCLUST_PATH\"] = \"./ironclust\"\n",
    "# os.environ[\"KILOSORT2_PATH\"] = \"./Kilosort2\"\n",
    "# os.environ[\"HDSORT_PATH\"] = \"./HDsort\"\n",
    "\n",
    "import matplotlib.pyplot as plt\n",
    "import numpy as np\n",
    "from pathlib import Path\n",
    "import pandas as pd\n",
    "import seaborn as sns\n",
    "from collections import defaultdict\n",
    "from matplotlib_venn import venn3\n",
    "\n",
    "import spikeinterface as si\n",
    "import spikeextractors as se\n",
    "import spiketoolkit as st\n",
    "import spikesorters as ss\n",
    "import spikecomparison as sc\n",
    "import spikewidgets as sw\n",
    "from spikecomparison import GroundTruthStudy\n",
    "\n",
    "#%matplotlib notebook\n",
    "\n",
    "def clear_axes(ax):\n",
    "    ax.spines['top'].set_visible(False)\n",
    "    ax.spines['right'].set_visible(False)\n",
    "    \n",
    "# print version information\n",
    "si.print_spikeinterface_version()\n",
    "ss.print_sorter_versions()"
   ]
  },
  {
   "cell_type": "markdown",
   "metadata": {},
   "source": [
    "# Set up ground truth study an run all sorters"
   ]
  },
  {
   "cell_type": "code",
   "execution_count": 2,
   "metadata": {
    "scrolled": true
   },
   "outputs": [
    {
     "name": "stdout",
     "output_type": "stream",
     "text": [
      " checking that gt data is saved\n"
     ]
    }
   ],
   "source": [
    "study_path = Path('/media/cat/1TB/spikesorting/')\n",
    "data_path = Path('.')\n",
    "\n",
    "# \n",
    "study_folder = study_path / 'study_mearec_250cells_Neuropixels-384chans_duration600s_noise10uV_2020-02-28/'\n",
    "\n",
    "# the original data\n",
    "# this NWB file contains both the ground truth spikes and the raw data\n",
    "#data_filename = data_path / 'sub-MEAREC-250neuron-Neuropixels_ecephys.nwb'\n",
    "data_filename = '/media/cat/1TB/spikesorting/sub-MEAREC-250neuron-Neuropixels_ecephys.nwb'\n",
    "SX_gt = se.NwbSortingExtractor(str(data_filename))\n",
    "RX = se.NwbRecordingExtractor(str(data_filename))\n",
    "\n",
    "print (\" checking that gt data is saved\")\n",
    "if not os.path.isdir(study_folder):\n",
    "    gt_dict = {'rec0' : (RX, SX_gt) }\n",
    "    study = GroundTruthStudy.create(study_folder, gt_dict)\n",
    "else:\n",
    "    study = GroundTruthStudy(study_folder)\n",
    "\n",
    "sorter_list = ['herdingspikes', 'kilosort2', 'ironclust',\n",
    "               'spykingcircus', 'tridesclous', 'hdsort', 'yass06', 'yass']\n",
    "sorter_names = ['HerdingSpikes', 'Kilosort2', 'Ironclust',\n",
    "                'SpykingCircus', 'Tridesclous', 'HDSort', 'YASS0.6', 'YASS']\n",
    "sorter_names_short = ['HS', 'KS', 'IC', 'SC', 'TDC', 'HDS', 'YASS', 'YASS0.6']"
   ]
  },
  {
   "cell_type": "code",
   "execution_count": 3,
   "metadata": {},
   "outputs": [],
   "source": [
    "# Not needed because already computed\n",
    "# study.run_sorters(sorter_list, mode='keep', engine='loop', verbose=True)\n",
    "\n",
    "# study.copy_sortings()\n",
    "\n",
    "# # compute or load SNR for the ground truth units\n",
    "# snr_file = study_folder / 'snr.npy'\n",
    "# if os.path.isfile(snr_file):\n",
    "#     snr = np.load(snr_file)\n",
    "# else:\n",
    "#     print('computing snr')\n",
    "#     # note this is quite slow for a NWB file as the data is arranged as channels:time\n",
    "#     # it is faster to first write out a binary file in time:channels order\n",
    "#     snr = st.validation.compute_snrs(SX_gt, RX, apply_filter=False, verbose=False, \n",
    "#                                      memmap=True, max_spikes_per_unit_for_snr=500)\n",
    "#     np.save(snr_file, snr)"
   ]
  },
  {
   "cell_type": "code",
   "execution_count": 6,
   "metadata": {},
   "outputs": [],
   "source": [
    "# sorting_outputs = []\n",
    "# for sort_name in sorter_list:\n",
    "#     sorting = study.get_sorting(sort_name)\n",
    "#     sorting_outputs.append(sorting)\n",
    "    \n",
    "    "
   ]
  },
  {
   "cell_type": "code",
   "execution_count": 6,
   "metadata": {},
   "outputs": [],
   "source": [
    "# sorting_ks2 = study.get_sorting(\"kilosort2\")\n",
    "# snr = st.validation.compute_snrs(sorting_ks2, RX, apply_filter=False, verbose=False, \n",
    "#                                  memmap=True, max_spikes_per_unit_for_snr=500, n_jobs=16, \n",
    "#                                  chunk_mb=4000)\n",
    "# snr_bad = []\n",
    "# for fp_unit in fp_units:\n",
    "#     snr_bad.append(sorting_ks2.get_unit_property(10, \"snr\"))\n",
    "    "
   ]
  },
  {
   "cell_type": "markdown",
   "metadata": {},
   "source": [
    "# Run the ground truth comparison and summarise the results"
   ]
  },
  {
   "cell_type": "code",
   "execution_count": 7,
   "metadata": {},
   "outputs": [],
   "source": [
    "study.run_comparisons(exhaustive_gt=True, \n",
    "                      match_score=0.0,\n",
    "                      delta_time=3.0)\n",
    "\n",
    "# \n",
    "comparisons = study.comparisons\n",
    "dataframes = study.aggregate_dataframes()"
   ]
  },
  {
   "cell_type": "code",
   "execution_count": 10,
   "metadata": {},
   "outputs": [
    {
     "data": {
      "text/html": [
       "<div>\n",
       "<style scoped>\n",
       "    .dataframe tbody tr th:only-of-type {\n",
       "        vertical-align: middle;\n",
       "    }\n",
       "\n",
       "    .dataframe tbody tr th {\n",
       "        vertical-align: top;\n",
       "    }\n",
       "\n",
       "    .dataframe thead th {\n",
       "        text-align: right;\n",
       "    }\n",
       "</style>\n",
       "<table border=\"1\" class=\"dataframe\">\n",
       "  <thead>\n",
       "    <tr style=\"text-align: right;\">\n",
       "      <th></th>\n",
       "      <th>rec_name</th>\n",
       "      <th>sorter_name</th>\n",
       "      <th>num_gt</th>\n",
       "      <th>num_sorter</th>\n",
       "      <th>num_well_detected</th>\n",
       "      <th>num_redundant</th>\n",
       "      <th>num_overmerged</th>\n",
       "      <th>num_false_positive</th>\n",
       "      <th>num_bad</th>\n",
       "    </tr>\n",
       "  </thead>\n",
       "  <tbody>\n",
       "    <tr>\n",
       "      <th>0</th>\n",
       "      <td>rec0</td>\n",
       "      <td>tridesclous</td>\n",
       "      <td>250</td>\n",
       "      <td>189</td>\n",
       "      <td>136</td>\n",
       "      <td>0</td>\n",
       "      <td>5</td>\n",
       "      <td>0</td>\n",
       "      <td>0</td>\n",
       "    </tr>\n",
       "    <tr>\n",
       "      <th>1</th>\n",
       "      <td>rec0</td>\n",
       "      <td>spykingcircus</td>\n",
       "      <td>250</td>\n",
       "      <td>343</td>\n",
       "      <td>176</td>\n",
       "      <td>40</td>\n",
       "      <td>1</td>\n",
       "      <td>53</td>\n",
       "      <td>93</td>\n",
       "    </tr>\n",
       "    <tr>\n",
       "      <th>2</th>\n",
       "      <td>rec0</td>\n",
       "      <td>herdingspikes</td>\n",
       "      <td>250</td>\n",
       "      <td>233</td>\n",
       "      <td>127</td>\n",
       "      <td>0</td>\n",
       "      <td>4</td>\n",
       "      <td>0</td>\n",
       "      <td>0</td>\n",
       "    </tr>\n",
       "    <tr>\n",
       "      <th>3</th>\n",
       "      <td>rec0</td>\n",
       "      <td>ironclust</td>\n",
       "      <td>250</td>\n",
       "      <td>283</td>\n",
       "      <td>199</td>\n",
       "      <td>16</td>\n",
       "      <td>5</td>\n",
       "      <td>17</td>\n",
       "      <td>33</td>\n",
       "    </tr>\n",
       "    <tr>\n",
       "      <th>4</th>\n",
       "      <td>rec0</td>\n",
       "      <td>kilosort2</td>\n",
       "      <td>250</td>\n",
       "      <td>354</td>\n",
       "      <td>241</td>\n",
       "      <td>71</td>\n",
       "      <td>2</td>\n",
       "      <td>33</td>\n",
       "      <td>104</td>\n",
       "    </tr>\n",
       "    <tr>\n",
       "      <th>5</th>\n",
       "      <td>rec0</td>\n",
       "      <td>yass</td>\n",
       "      <td>250</td>\n",
       "      <td>261</td>\n",
       "      <td>246</td>\n",
       "      <td>0</td>\n",
       "      <td>1</td>\n",
       "      <td>11</td>\n",
       "      <td>11</td>\n",
       "    </tr>\n",
       "    <tr>\n",
       "      <th>6</th>\n",
       "      <td>rec0</td>\n",
       "      <td>hdsort</td>\n",
       "      <td>250</td>\n",
       "      <td>457</td>\n",
       "      <td>194</td>\n",
       "      <td>4</td>\n",
       "      <td>3</td>\n",
       "      <td>203</td>\n",
       "      <td>207</td>\n",
       "    </tr>\n",
       "    <tr>\n",
       "      <th>7</th>\n",
       "      <td>rec0</td>\n",
       "      <td>yass06</td>\n",
       "      <td>250</td>\n",
       "      <td>1095</td>\n",
       "      <td>115</td>\n",
       "      <td>191</td>\n",
       "      <td>3</td>\n",
       "      <td>654</td>\n",
       "      <td>845</td>\n",
       "    </tr>\n",
       "  </tbody>\n",
       "</table>\n",
       "</div>"
      ],
      "text/plain": [
       "  rec_name    sorter_name num_gt num_sorter num_well_detected num_redundant  \\\n",
       "0     rec0    tridesclous    250        189               136             0   \n",
       "1     rec0  spykingcircus    250        343               176            40   \n",
       "2     rec0  herdingspikes    250        233               127             0   \n",
       "3     rec0      ironclust    250        283               199            16   \n",
       "4     rec0      kilosort2    250        354               241            71   \n",
       "5     rec0           yass    250        261               246             0   \n",
       "6     rec0         hdsort    250        457               194             4   \n",
       "7     rec0         yass06    250       1095               115           191   \n",
       "\n",
       "  num_overmerged num_false_positive num_bad  \n",
       "0              5                  0       0  \n",
       "1              1                 53      93  \n",
       "2              4                  0       0  \n",
       "3              5                 17      33  \n",
       "4              2                 33     104  \n",
       "5              1                 11      11  \n",
       "6              3                203     207  \n",
       "7              3                654     845  "
      ]
     },
     "execution_count": 10,
     "metadata": {},
     "output_type": "execute_result"
    }
   ],
   "source": [
    "dataframes['count_units']"
   ]
  },
  {
   "cell_type": "code",
   "execution_count": 11,
   "metadata": {},
   "outputs": [
    {
     "name": "stderr",
     "output_type": "stream",
     "text": [
      "\r",
      "  0%|          | 0/1095 [00:00<?, ?it/s]"
     ]
    },
    {
     "name": "stdout",
     "output_type": "stream",
     "text": [
      "/media/cat/1TB/spikesorting/study_mearec_250cells_Neuropixels-384chans_duration600s_noise10uV_2020-02-28/sortings/rec0[#]yass06.npz\n"
     ]
    },
    {
     "name": "stderr",
     "output_type": "stream",
     "text": [
      "100%|██████████| 1095/1095 [02:02<00:00,  8.92it/s]\n"
     ]
    }
   ],
   "source": [
    "######################################################\n",
    "########### GET PTPS OF ALL SORTED UNITS #############\n",
    "######################################################\n",
    "# Get PTPS of each sorted unit\n",
    "from tqdm import tqdm\n",
    "from Ephys import Ephys\n",
    "fname_binary = '/media/cat/1TB/spikesorting/sub-MEAREC-250neuron-Neuropixels_ecephys.bin'\n",
    "n_channels = 384\n",
    "n_times = 101\n",
    "ephys = Ephys(fname_binary,\n",
    "              n_channels,\n",
    "              n_times)\n",
    "\n",
    "# get ptps for all units\n",
    "for sorter in sorter_list:\n",
    "    root_dir = '/media/cat/1TB/spikesorting/study_mearec_250cells_Neuropixels-384chans_duration600s_noise10uV_2020-02-28/sortings/rec0[#]'\n",
    "    fname = root_dir + sorter + '.npz'\n",
    "\n",
    "    fname_out = fname[:-4]+\"_ptps.npy\"\n",
    "    if os.path.exists(fname_out):\n",
    "        continue\n",
    "    print (fname)\n",
    "        \n",
    "    data = np.load(fname)\n",
    "    # get units\n",
    "    spike_ids = data['spike_labels']\n",
    "    spike_times = data['spike_indexes']\n",
    "    \n",
    "    ptps = []\n",
    "    for unit_id in tqdm(np.unique(spike_ids)):\n",
    "        idx = np.where(spike_ids==unit_id)[0]\n",
    "        spikes = np.int32(spike_times[idx])\n",
    "        ephys.get_ptp(spikes)\n",
    "        ptps.append(ephys.ptp)\n",
    "    \n",
    "    np.save(fname_out, ptps)\n"
   ]
  },
  {
   "cell_type": "code",
   "execution_count": 17,
   "metadata": {},
   "outputs": [
    {
     "name": "stdout",
     "output_type": "stream",
     "text": [
      "herdingspikes\n",
      "kilosort2\n",
      "ironclust\n",
      "spykingcircus\n",
      "tridesclous\n",
      "hdsort\n",
      "yass06\n",
      "yass\n"
     ]
    }
   ],
   "source": [
    "######################################################\n",
    "############## GET RESULST OF MATCHING ###############\n",
    "######################################################\n",
    "# Select sort result and get IDS of cells:\n",
    "# sorter_list = ['herdingspikes', 'kilosort2', 'ironclust',\n",
    "#                'spykingcircus', 'tridesclous', 'hdsort', 'yass']\n",
    "\n",
    "#\n",
    "def fix_ids(rr, spike_ids, ids_seq):\n",
    "        \n",
    "    r2 = []\n",
    "    for k in range(len(rr)):\n",
    "        idx = np.where(spike_ids==rr[k])[0]\n",
    "        r2.append(ids_seq[idx])\n",
    "\n",
    "    return np.array(r2).squeeze()\n",
    "\n",
    "    \n",
    "for ctr, sorter in enumerate(sorter_list):\n",
    "    ax=plt.subplot(2,4,ctr+1)\n",
    "    print (sorter)\n",
    "    sorter_comp = comparisons[('rec0', sorter)]\n",
    "    y1 = sorter_comp.agreement_scores.max()\n",
    "\n",
    "    # \n",
    "    r1 = sorter_comp.get_redundant_units()\n",
    "    w1 = sorter_comp.get_well_detected_units()\n",
    "    b1 = sorter_comp.get_bad_units()\n",
    "\n",
    "\n",
    "    ptps = np.load(root_dir + sorter +\"_ptps.npy\")\n",
    "    \n",
    "    # adjust ids in case non-sequential unit ids\n",
    "    data = np.load(root_dir + sorter + '.npz')\n",
    "    spike_ids = np.unique(data['spike_labels'])\n",
    "    ids_seq = np.arange(spike_ids.shape[0])\n",
    "\n",
    "    r1 = fix_ids(r1, spike_ids, ids_seq)\n",
    "    w1 = fix_ids(w1, spike_ids, ids_seq)\n",
    "    b1 = fix_ids(b1, spike_ids, ids_seq)\n",
    "    \n",
    "    try: \n",
    "        if w1.shape[0]>0:\n",
    "            plt.scatter(ptps[w1],y1[w1], c='blue')\n",
    "\n",
    "        if b1.shape[0]>0:\n",
    "            plt.scatter(ptps[b1],y1[b1], c='red')\n",
    "\n",
    "        if r1.shape[0]>0:\n",
    "            plt.scatter(ptps[r1],y1[r1], c='green')\n",
    "\n",
    "    except:\n",
    "        y1 = sorter_comp.agreement_scores.max().to_numpy()\n",
    "        if w1.shape[0]>0:\n",
    "            plt.scatter(ptps[w1],y1[w1], c='blue')\n",
    "\n",
    "        if b1.shape[0]>0:\n",
    "            plt.scatter(ptps[b1],y1[b1], c='red')\n",
    "\n",
    "        if r1.shape[0]>0:\n",
    "            plt.scatter(ptps[r1],y1[r1], c='green')\n",
    "            \n",
    "    plt.title(sorter,fontsize=20)\n",
    "    plt.ylim(0,1)\n",
    "plt.suptitle('study_mearec_250cells_Neuropixels-384chans_duration600s_noise10uV_2020-02-28/')\n",
    "plt.show()"
   ]
  },
  {
   "cell_type": "code",
   "execution_count": 16,
   "metadata": {},
   "outputs": [
    {
     "name": "stdout",
     "output_type": "stream",
     "text": [
      "0    136\n",
      "1    176\n",
      "2    127\n",
      "3    199\n",
      "4    241\n",
      "5    246\n",
      "6    194\n",
      "7    115\n",
      "Name: num_well_detected, dtype: object\n",
      "0\n",
      "1\n",
      "2\n",
      "3\n",
      "4\n",
      "5\n",
      "6\n",
      "7\n"
     ]
    }
   ],
   "source": [
    "##############################################################\n",
    "################# PLOT BAD VS. GOOD ##########################\n",
    "##############################################################\n",
    "\n",
    "entries = ['num_well_detected','num_redundant','num_ovemerged','num_false_positive','num_bad']\n",
    "clrs = ['brown','magenta','cyan','green','blue','red','pink', 'grey']\n",
    "names = dataframes['count_units']['sorter_name']\n",
    "\n",
    "# \n",
    "well_detected = dataframes['count_units']['num_well_detected']\n",
    "print (well_detected)\n",
    "\n",
    "# \n",
    "bad_units = dataframes['count_units']['num_bad']\n",
    "\n",
    "size = 100\n",
    "# \n",
    "fig=plt.figure()\n",
    "ax=plt.subplot(211)\n",
    "dists = []\n",
    "for k in range(len(bad_units)):\n",
    "    print (k)\n",
    "    plt.scatter(bad_units[k], well_detected[k],\n",
    "                s=size,\n",
    "               c=clrs[k], label = names[k])\n",
    "\n",
    "    dists.append(np.linalg.norm(np.array([0,250])-np.array([bad_units[k],well_detected[k]]))/250.)\n",
    "\n",
    "    \n",
    "plt.plot([0,bad_units[3]],[250,well_detected[3]],'r--',c='black')\n",
    "\n",
    "#\n",
    "plt.scatter(0,250,s=size*2, c='black', label=\"Perfect Sort\")\n",
    "\n",
    "#\n",
    "plt.xlim(0,275)\n",
    "plt.ylim(0,275)\n",
    "plt.xlabel(\"# bad units sorted\")\n",
    "plt.ylabel(\"# good units sorted\")\n",
    "\n",
    "plt.legend(ncol=2)\n",
    "\n",
    "\n",
    "# plot unit space values\n",
    "ax=plt.subplot(212)\n",
    "for k in range(len(bad_units)):\n",
    "    plt.scatter(k, dists[k], \n",
    "                s=size,\n",
    "                c=clrs[k])\n",
    "\n",
    "plt.xticks(np.arange(8), names)\n",
    "plt.ylabel(\"Normalized sorting distance to Perfect Sort\")\n",
    "plt.suptitle(\"\")\n",
    "plt.show()\n"
   ]
  },
  {
   "cell_type": "code",
   "execution_count": null,
   "metadata": {},
   "outputs": [],
   "source": []
  },
  {
   "cell_type": "code",
   "execution_count": null,
   "metadata": {},
   "outputs": [],
   "source": []
  },
  {
   "cell_type": "code",
   "execution_count": null,
   "metadata": {},
   "outputs": [],
   "source": []
  },
  {
   "cell_type": "code",
   "execution_count": null,
   "metadata": {},
   "outputs": [],
   "source": []
  },
  {
   "cell_type": "code",
   "execution_count": null,
   "metadata": {},
   "outputs": [],
   "source": []
  },
  {
   "cell_type": "code",
   "execution_count": null,
   "metadata": {},
   "outputs": [],
   "source": []
  },
  {
   "cell_type": "code",
   "execution_count": null,
   "metadata": {},
   "outputs": [],
   "source": []
  },
  {
   "cell_type": "code",
   "execution_count": null,
   "metadata": {},
   "outputs": [],
   "source": []
  },
  {
   "cell_type": "code",
   "execution_count": null,
   "metadata": {},
   "outputs": [],
   "source": []
  },
  {
   "cell_type": "code",
   "execution_count": null,
   "metadata": {},
   "outputs": [],
   "source": []
  },
  {
   "cell_type": "code",
   "execution_count": 166,
   "metadata": {},
   "outputs": [],
   "source": [
    "rec=study.get_recording()\n"
   ]
  },
  {
   "cell_type": "code",
   "execution_count": 168,
   "metadata": {},
   "outputs": [],
   "source": [
    "template = st.postprocessing.get_unit_templates(rec, yass_s, unit_ids=b1)"
   ]
  },
  {
   "cell_type": "code",
   "execution_count": 171,
   "metadata": {},
   "outputs": [
    {
     "name": "stdout",
     "output_type": "stream",
     "text": [
      "(19, 384, 192)\n",
      "[30, 36, 45, 48, 59, 67, 87, 107, 109, 114, 151, 158, 170, 176, 183, 198, 221, 236, 258]\n"
     ]
    }
   ],
   "source": [
    "t = np.array(template)\n",
    "print (t.shape)\n",
    "print (b1)"
   ]
  },
  {
   "cell_type": "code",
   "execution_count": 174,
   "metadata": {},
   "outputs": [],
   "source": [
    "plt.plot(t[3].T, c='black')\n",
    "plt.show()\n"
   ]
  },
  {
   "cell_type": "code",
   "execution_count": 175,
   "metadata": {},
   "outputs": [
    {
     "data": {
      "text/plain": [
       "0.0040032754071513054"
      ]
     },
     "execution_count": 175,
     "metadata": {},
     "output_type": "execute_result"
    }
   ],
   "source": [
    "y1.iloc[48]"
   ]
  },
  {
   "cell_type": "code",
   "execution_count": null,
   "metadata": {},
   "outputs": [],
   "source": []
  },
  {
   "cell_type": "code",
   "execution_count": null,
   "metadata": {},
   "outputs": [],
   "source": []
  },
  {
   "cell_type": "code",
   "execution_count": null,
   "metadata": {},
   "outputs": [],
   "source": []
  },
  {
   "cell_type": "code",
   "execution_count": 7,
   "metadata": {},
   "outputs": [],
   "source": []
  },
  {
   "cell_type": "code",
   "execution_count": 8,
   "metadata": {},
   "outputs": [
    {
     "ename": "NameError",
     "evalue": "name 'ptps_yass' is not defined",
     "output_type": "error",
     "traceback": [
      "\u001b[0;31m---------------------------------------------------------------------------\u001b[0m",
      "\u001b[0;31mNameError\u001b[0m                                 Traceback (most recent call last)",
      "\u001b[0;32m<ipython-input-8-b30992b1337c>\u001b[0m in \u001b[0;36m<module>\u001b[0;34m\u001b[0m\n\u001b[0;32m----> 1\u001b[0;31m plt.scatter(ptps_yass,\n\u001b[0m\u001b[1;32m      2\u001b[0m             yass_comp.agreement_scores.max())\n\u001b[1;32m      3\u001b[0m \u001b[0mplt\u001b[0m\u001b[0;34m.\u001b[0m\u001b[0mshow\u001b[0m\u001b[0;34m(\u001b[0m\u001b[0;34m)\u001b[0m\u001b[0;34m\u001b[0m\u001b[0;34m\u001b[0m\u001b[0m\n",
      "\u001b[0;31mNameError\u001b[0m: name 'ptps_yass' is not defined"
     ]
    }
   ],
   "source": [
    "plt.scatter(ptps_yass,\n",
    "            yass_comp.agreement_scores.max())\n",
    "plt.show()\n"
   ]
  },
  {
   "cell_type": "code",
   "execution_count": 9,
   "metadata": {},
   "outputs": [],
   "source": []
  },
  {
   "cell_type": "code",
   "execution_count": 34,
   "metadata": {},
   "outputs": [
    {
     "name": "stdout",
     "output_type": "stream",
     "text": [
      "[30, 36, 45, 48, 59, 67, 87, 107, 109, 114, 151, 158, 170, 176, 183, 198, 221, 236, 258]\n",
      "[138.19919   52.359978 158.42441  328.93988  158.14108   40.856567\n",
      "  95.52229   74.14123   99.50074  111.4209    69.25274   38.560463\n",
      "  61.3503   280.048     63.120834 179.92615   98.60075   35.029198\n",
      "  42.72722 ]\n"
     ]
    }
   ],
   "source": [
    "print (b1)\n",
    "print (np.array(ptps_yass)[b1])"
   ]
  },
  {
   "cell_type": "code",
   "execution_count": 11,
   "metadata": {},
   "outputs": [],
   "source": [
    "yass_s = study.get_sorting('yass')\n"
   ]
  },
  {
   "cell_type": "code",
   "execution_count": 13,
   "metadata": {},
   "outputs": [],
   "source": [
    "gt = study.get_ground_truth()"
   ]
  },
  {
   "cell_type": "code",
   "execution_count": 18,
   "metadata": {},
   "outputs": [],
   "source": [
    "gt_spikes = gt.get_units_spike_train()"
   ]
  },
  {
   "cell_type": "code",
   "execution_count": 51,
   "metadata": {},
   "outputs": [
    {
     "name": "stderr",
     "output_type": "stream",
     "text": [
      "100%|██████████| 250/250 [00:00<00:00, 484.87it/s]"
     ]
    },
    {
     "name": "stdout",
     "output_type": "stream",
     "text": [
      "bad unit:  221  ptp:  98.60075  # of spikes in sorted unit:  (234,)  best match from gt:  99\n"
     ]
    },
    {
     "name": "stderr",
     "output_type": "stream",
     "text": [
      "\n"
     ]
    }
   ],
   "source": [
    "#for b in b1:\n",
    "for b in [221]:\n",
    "    matches = ephys.match_unit_to_gt(yass_s.get_unit_spike_train(b),\n",
    "                      gt.get_units_spike_train())\n",
    "\n",
    "    print (\"bad unit: \", b, \" ptp: \", ptps_yass[b], \" # of spikes in sorted unit: \", \n",
    "           yass_s.get_unit_spike_train(b).shape,\n",
    "          \" best match from gt: \", np.max(matches))\n"
   ]
  },
  {
   "cell_type": "code",
   "execution_count": 40,
   "metadata": {},
   "outputs": [
    {
     "name": "stdout",
     "output_type": "stream",
     "text": [
      "# of spikes in sorted unit:  (124,)\n",
      "7\n"
     ]
    }
   ],
   "source": []
  },
  {
   "cell_type": "code",
   "execution_count": 12,
   "metadata": {},
   "outputs": [
    {
     "data": {
      "text/plain": [
       "2404"
      ]
     },
     "execution_count": 12,
     "metadata": {},
     "output_type": "execute_result"
    }
   ],
   "source": [
    "len(yass_s.get_unit_spike_train(48))"
   ]
  },
  {
   "cell_type": "code",
   "execution_count": 9,
   "metadata": {},
   "outputs": [
    {
     "data": {
      "text/html": [
       "<div>\n",
       "<style scoped>\n",
       "    .dataframe tbody tr th:only-of-type {\n",
       "        vertical-align: middle;\n",
       "    }\n",
       "\n",
       "    .dataframe tbody tr th {\n",
       "        vertical-align: top;\n",
       "    }\n",
       "\n",
       "    .dataframe thead th {\n",
       "        text-align: right;\n",
       "    }\n",
       "</style>\n",
       "<table border=\"1\" class=\"dataframe\">\n",
       "  <thead>\n",
       "    <tr style=\"text-align: right;\">\n",
       "      <th></th>\n",
       "      <th>rec_name</th>\n",
       "      <th>sorter_name</th>\n",
       "      <th>num_gt</th>\n",
       "      <th>num_sorter</th>\n",
       "      <th>num_well_detected</th>\n",
       "      <th>num_redundant</th>\n",
       "      <th>num_overmerged</th>\n",
       "      <th>num_false_positive</th>\n",
       "      <th>num_bad</th>\n",
       "    </tr>\n",
       "  </thead>\n",
       "  <tbody>\n",
       "    <tr>\n",
       "      <th>0</th>\n",
       "      <td>rec0</td>\n",
       "      <td>tridesclous</td>\n",
       "      <td>250</td>\n",
       "      <td>189</td>\n",
       "      <td>136</td>\n",
       "      <td>0</td>\n",
       "      <td>5</td>\n",
       "      <td>0</td>\n",
       "      <td>0</td>\n",
       "    </tr>\n",
       "    <tr>\n",
       "      <th>1</th>\n",
       "      <td>rec0</td>\n",
       "      <td>spykingcircus</td>\n",
       "      <td>250</td>\n",
       "      <td>343</td>\n",
       "      <td>176</td>\n",
       "      <td>40</td>\n",
       "      <td>1</td>\n",
       "      <td>53</td>\n",
       "      <td>93</td>\n",
       "    </tr>\n",
       "    <tr>\n",
       "      <th>2</th>\n",
       "      <td>rec0</td>\n",
       "      <td>herdingspikes</td>\n",
       "      <td>250</td>\n",
       "      <td>233</td>\n",
       "      <td>129</td>\n",
       "      <td>0</td>\n",
       "      <td>4</td>\n",
       "      <td>0</td>\n",
       "      <td>0</td>\n",
       "    </tr>\n",
       "    <tr>\n",
       "      <th>3</th>\n",
       "      <td>rec0</td>\n",
       "      <td>ironclust</td>\n",
       "      <td>250</td>\n",
       "      <td>283</td>\n",
       "      <td>202</td>\n",
       "      <td>17</td>\n",
       "      <td>5</td>\n",
       "      <td>16</td>\n",
       "      <td>33</td>\n",
       "    </tr>\n",
       "    <tr>\n",
       "      <th>4</th>\n",
       "      <td>rec0</td>\n",
       "      <td>kilosort2</td>\n",
       "      <td>250</td>\n",
       "      <td>415</td>\n",
       "      <td>245</td>\n",
       "      <td>98</td>\n",
       "      <td>2</td>\n",
       "      <td>67</td>\n",
       "      <td>165</td>\n",
       "    </tr>\n",
       "    <tr>\n",
       "      <th>5</th>\n",
       "      <td>rec0</td>\n",
       "      <td>yass</td>\n",
       "      <td>250</td>\n",
       "      <td>261</td>\n",
       "      <td>246</td>\n",
       "      <td>0</td>\n",
       "      <td>1</td>\n",
       "      <td>11</td>\n",
       "      <td>11</td>\n",
       "    </tr>\n",
       "    <tr>\n",
       "      <th>6</th>\n",
       "      <td>rec0</td>\n",
       "      <td>hdsort</td>\n",
       "      <td>250</td>\n",
       "      <td>457</td>\n",
       "      <td>196</td>\n",
       "      <td>6</td>\n",
       "      <td>3</td>\n",
       "      <td>201</td>\n",
       "      <td>207</td>\n",
       "    </tr>\n",
       "  </tbody>\n",
       "</table>\n",
       "</div>"
      ],
      "text/plain": [
       "  rec_name    sorter_name num_gt num_sorter num_well_detected num_redundant  \\\n",
       "0     rec0    tridesclous    250        189               136             0   \n",
       "1     rec0  spykingcircus    250        343               176            40   \n",
       "2     rec0  herdingspikes    250        233               129             0   \n",
       "3     rec0      ironclust    250        283               202            17   \n",
       "4     rec0      kilosort2    250        415               245            98   \n",
       "5     rec0           yass    250        261               246             0   \n",
       "6     rec0         hdsort    250        457               196             6   \n",
       "\n",
       "  num_overmerged num_false_positive num_bad  \n",
       "0              5                  0       0  \n",
       "1              1                 53      93  \n",
       "2              4                  0       0  \n",
       "3              5                 16      33  \n",
       "4              2                 67     165  \n",
       "5              1                 11      11  \n",
       "6              3                201     207  "
      ]
     },
     "execution_count": 9,
     "metadata": {},
     "output_type": "execute_result"
    }
   ],
   "source": [
    "# comparison summary\n",
    "dataframes['count_units']\n",
    "\n"
   ]
  },
  {
   "cell_type": "code",
   "execution_count": 98,
   "metadata": {},
   "outputs": [],
   "source": [
    "##############################################################\n",
    "################# PLOT BAD VS. GOOD ##########################\n",
    "##############################################################\n",
    "\n",
    "entries = ['num_well_detected','num_redundant','num_ovemerged','num_false_positive','num_bad']\n",
    "clrs = ['brown','magenta','cyan','green','blue','red','pink']\n",
    "names = dataframes['count_units']['sorter_name']\n",
    "\n",
    "# \n",
    "well_detected = dataframes['count_units']['num_well_detected']\n",
    "#print (well_detected)\n",
    "\n",
    "# \n",
    "bad_units = dataframes['count_units']['num_bad']\n",
    "\n",
    "size = 100\n",
    "# \n",
    "fig=plt.figure()\n",
    "ax=plt.subplot(211)\n",
    "dists = []\n",
    "for k in range(len(bad_units)):\n",
    "    plt.scatter(bad_units[k], well_detected[k],\n",
    "                s=size,\n",
    "               c=clrs[k], label = names[k])\n",
    "\n",
    "    dists.append(np.linalg.norm(np.array([0,250])-np.array([bad_units[k],well_detected[k]]))/250.)\n",
    "\n",
    "    \n",
    "plt.plot([0,bad_units[3]],[250,well_detected[3]],'r--',c='black')\n",
    "\n",
    "#\n",
    "plt.scatter(0,250,s=size*2, c='black', label=\"Perfect Sort\")\n",
    "\n",
    "#\n",
    "plt.xlim(0,275)\n",
    "plt.ylim(0,275)\n",
    "plt.xlabel(\"# bad units sorted\")\n",
    "plt.ylabel(\"# good units sorted\")\n",
    "\n",
    "plt.legend(ncol=2)\n",
    "\n",
    "\n",
    "# plot unit space values\n",
    "ax=plt.subplot(212)\n",
    "for k in range(len(bad_units)):\n",
    "    plt.scatter(k, dists[k], \n",
    "                s=size,\n",
    "                c=clrs[k])\n",
    "\n",
    "plt.xticks(np.arange(8), names)\n",
    "plt.ylabel(\"Normalized sorting distance to Perfect Sort\")\n",
    "plt.suptitle(\"\")\n",
    "plt.show()\n",
    "\n"
   ]
  },
  {
   "cell_type": "code",
   "execution_count": 23,
   "metadata": {},
   "outputs": [],
   "source": [
    "# data = RX.get_traces()\n",
    "# print (data.shape)\n",
    "# print (type(data[0][0]))\n",
    "# np.save('/media/cat/1TB/spikesorting/sub-MEAREC-250neuron-Neuropixels_ecephys.npy',data)\n",
    "\n",
    "# data.tofile('/media/cat/1TB/spikesorting/sub-MEAREC-250neuron-Neuropixels_ecephys.bin')\n"
   ]
  },
  {
   "cell_type": "code",
   "execution_count": 21,
   "metadata": {},
   "outputs": [],
   "source": [
    "# # \n",
    "# from Ephys import Ephys\n",
    "# fname_binary = '/media/cat/1TB/spikesorting/sub-MEAREC-250neuron-Neuropixels_ecephys.bin'\n",
    "# n_channels = 384\n",
    "# n_times = 101\n",
    "# ephys = Ephys(fname_binary,\n",
    "#               n_channels,\n",
    "#               n_times)\n",
    "# # \n"
   ]
  },
  {
   "cell_type": "code",
   "execution_count": 99,
   "metadata": {},
   "outputs": [
    {
     "name": "stdout",
     "output_type": "stream",
     "text": [
      "rec_name                       rec0\n",
      "sorter_name             tridesclous\n",
      "gt_unit_id                        0\n",
      "accuracy                   0.725212\n",
      "recall                     0.774584\n",
      "precision                   0.91921\n",
      "false_discovery_rate      0.0807899\n",
      "miss_rate                  0.225416\n",
      "Name: 0, dtype: object\n"
     ]
    }
   ],
   "source": [
    "print (dataframes['perf_by_units'].iloc[0])"
   ]
  },
  {
   "cell_type": "code",
   "execution_count": 100,
   "metadata": {},
   "outputs": [
    {
     "ename": "KeyError",
     "evalue": "'snr'",
     "output_type": "error",
     "traceback": [
      "\u001b[0;31m---------------------------------------------------------------------------\u001b[0m",
      "\u001b[0;31mTypeError\u001b[0m                                 Traceback (most recent call last)",
      "\u001b[0;32m~/anaconda3/envs/sf_yass/lib/python3.8/site-packages/pandas/core/indexes/base.py\u001b[0m in \u001b[0;36mget_value\u001b[0;34m(self, series, key)\u001b[0m\n\u001b[1;32m   4410\u001b[0m             \u001b[0;32mtry\u001b[0m\u001b[0;34m:\u001b[0m\u001b[0;34m\u001b[0m\u001b[0;34m\u001b[0m\u001b[0m\n\u001b[0;32m-> 4411\u001b[0;31m                 \u001b[0;32mreturn\u001b[0m \u001b[0mlibindex\u001b[0m\u001b[0;34m.\u001b[0m\u001b[0mget_value_at\u001b[0m\u001b[0;34m(\u001b[0m\u001b[0ms\u001b[0m\u001b[0;34m,\u001b[0m \u001b[0mkey\u001b[0m\u001b[0;34m)\u001b[0m\u001b[0;34m\u001b[0m\u001b[0;34m\u001b[0m\u001b[0m\n\u001b[0m\u001b[1;32m   4412\u001b[0m             \u001b[0;32mexcept\u001b[0m \u001b[0mIndexError\u001b[0m\u001b[0;34m:\u001b[0m\u001b[0;34m\u001b[0m\u001b[0;34m\u001b[0m\u001b[0m\n",
      "\u001b[0;32mpandas/_libs/index.pyx\u001b[0m in \u001b[0;36mpandas._libs.index.get_value_at\u001b[0;34m()\u001b[0m\n",
      "\u001b[0;32mpandas/_libs/index.pyx\u001b[0m in \u001b[0;36mpandas._libs.index.get_value_at\u001b[0;34m()\u001b[0m\n",
      "\u001b[0;32mpandas/_libs/util.pxd\u001b[0m in \u001b[0;36mpandas._libs.util.get_value_at\u001b[0;34m()\u001b[0m\n",
      "\u001b[0;32mpandas/_libs/util.pxd\u001b[0m in \u001b[0;36mpandas._libs.util.validate_indexer\u001b[0;34m()\u001b[0m\n",
      "\u001b[0;31mTypeError\u001b[0m: 'str' object cannot be interpreted as an integer",
      "\nDuring handling of the above exception, another exception occurred:\n",
      "\u001b[0;31mKeyError\u001b[0m                                  Traceback (most recent call last)",
      "\u001b[0;32m<ipython-input-100-37bb06528b09>\u001b[0m in \u001b[0;36m<module>\u001b[0;34m\u001b[0m\n\u001b[1;32m     11\u001b[0m     \u001b[0;32mfor\u001b[0m \u001b[0midx\u001b[0m \u001b[0;32min\u001b[0m \u001b[0midxs\u001b[0m\u001b[0;34m:\u001b[0m\u001b[0;34m\u001b[0m\u001b[0;34m\u001b[0m\u001b[0m\n\u001b[1;32m     12\u001b[0m         \u001b[0maccuracy\u001b[0m\u001b[0;34m.\u001b[0m\u001b[0mappend\u001b[0m\u001b[0;34m(\u001b[0m\u001b[0mdataframes\u001b[0m\u001b[0;34m[\u001b[0m\u001b[0;34m'perf_by_units'\u001b[0m\u001b[0;34m]\u001b[0m\u001b[0;34m.\u001b[0m\u001b[0miloc\u001b[0m\u001b[0;34m[\u001b[0m\u001b[0midx\u001b[0m\u001b[0;34m]\u001b[0m\u001b[0;34m[\u001b[0m\u001b[0;34m'accuracy'\u001b[0m\u001b[0;34m]\u001b[0m\u001b[0;34m)\u001b[0m\u001b[0;34m\u001b[0m\u001b[0;34m\u001b[0m\u001b[0m\n\u001b[0;32m---> 13\u001b[0;31m         \u001b[0msnr\u001b[0m\u001b[0;34m.\u001b[0m\u001b[0mappend\u001b[0m\u001b[0;34m(\u001b[0m\u001b[0mdataframes\u001b[0m\u001b[0;34m[\u001b[0m\u001b[0;34m'perf_by_units'\u001b[0m\u001b[0;34m]\u001b[0m\u001b[0;34m.\u001b[0m\u001b[0miloc\u001b[0m\u001b[0;34m[\u001b[0m\u001b[0midx\u001b[0m\u001b[0;34m]\u001b[0m\u001b[0;34m[\u001b[0m\u001b[0;34m'snr'\u001b[0m\u001b[0;34m]\u001b[0m\u001b[0;34m)\u001b[0m\u001b[0;34m\u001b[0m\u001b[0;34m\u001b[0m\u001b[0m\n\u001b[0m\u001b[1;32m     14\u001b[0m \u001b[0;34m\u001b[0m\u001b[0m\n\u001b[1;32m     15\u001b[0m     \u001b[0max\u001b[0m\u001b[0;34m=\u001b[0m\u001b[0mplt\u001b[0m\u001b[0;34m.\u001b[0m\u001b[0msubplot\u001b[0m\u001b[0;34m(\u001b[0m\u001b[0;36m2\u001b[0m\u001b[0;34m,\u001b[0m\u001b[0;36m4\u001b[0m\u001b[0;34m,\u001b[0m\u001b[0mctr\u001b[0m\u001b[0;34m)\u001b[0m\u001b[0;34m\u001b[0m\u001b[0;34m\u001b[0m\u001b[0m\n",
      "\u001b[0;32m~/anaconda3/envs/sf_yass/lib/python3.8/site-packages/pandas/core/series.py\u001b[0m in \u001b[0;36m__getitem__\u001b[0;34m(self, key)\u001b[0m\n\u001b[1;32m    869\u001b[0m         \u001b[0mkey\u001b[0m \u001b[0;34m=\u001b[0m \u001b[0mcom\u001b[0m\u001b[0;34m.\u001b[0m\u001b[0mapply_if_callable\u001b[0m\u001b[0;34m(\u001b[0m\u001b[0mkey\u001b[0m\u001b[0;34m,\u001b[0m \u001b[0mself\u001b[0m\u001b[0;34m)\u001b[0m\u001b[0;34m\u001b[0m\u001b[0;34m\u001b[0m\u001b[0m\n\u001b[1;32m    870\u001b[0m         \u001b[0;32mtry\u001b[0m\u001b[0;34m:\u001b[0m\u001b[0;34m\u001b[0m\u001b[0;34m\u001b[0m\u001b[0m\n\u001b[0;32m--> 871\u001b[0;31m             \u001b[0mresult\u001b[0m \u001b[0;34m=\u001b[0m \u001b[0mself\u001b[0m\u001b[0;34m.\u001b[0m\u001b[0mindex\u001b[0m\u001b[0;34m.\u001b[0m\u001b[0mget_value\u001b[0m\u001b[0;34m(\u001b[0m\u001b[0mself\u001b[0m\u001b[0;34m,\u001b[0m \u001b[0mkey\u001b[0m\u001b[0;34m)\u001b[0m\u001b[0;34m\u001b[0m\u001b[0;34m\u001b[0m\u001b[0m\n\u001b[0m\u001b[1;32m    872\u001b[0m \u001b[0;34m\u001b[0m\u001b[0m\n\u001b[1;32m    873\u001b[0m             \u001b[0;32mif\u001b[0m \u001b[0;32mnot\u001b[0m \u001b[0mis_scalar\u001b[0m\u001b[0;34m(\u001b[0m\u001b[0mresult\u001b[0m\u001b[0;34m)\u001b[0m\u001b[0;34m:\u001b[0m\u001b[0;34m\u001b[0m\u001b[0;34m\u001b[0m\u001b[0m\n",
      "\u001b[0;32m~/anaconda3/envs/sf_yass/lib/python3.8/site-packages/pandas/core/indexes/base.py\u001b[0m in \u001b[0;36mget_value\u001b[0;34m(self, series, key)\u001b[0m\n\u001b[1;32m   4417\u001b[0m                     \u001b[0;32mraise\u001b[0m \u001b[0mInvalidIndexError\u001b[0m\u001b[0;34m(\u001b[0m\u001b[0mkey\u001b[0m\u001b[0;34m)\u001b[0m\u001b[0;34m\u001b[0m\u001b[0;34m\u001b[0m\u001b[0m\n\u001b[1;32m   4418\u001b[0m                 \u001b[0;32melse\u001b[0m\u001b[0;34m:\u001b[0m\u001b[0;34m\u001b[0m\u001b[0;34m\u001b[0m\u001b[0m\n\u001b[0;32m-> 4419\u001b[0;31m                     \u001b[0;32mraise\u001b[0m \u001b[0me1\u001b[0m\u001b[0;34m\u001b[0m\u001b[0;34m\u001b[0m\u001b[0m\n\u001b[0m\u001b[1;32m   4420\u001b[0m             \u001b[0;32mexcept\u001b[0m \u001b[0mException\u001b[0m\u001b[0;34m:\u001b[0m\u001b[0;34m\u001b[0m\u001b[0;34m\u001b[0m\u001b[0m\n\u001b[1;32m   4421\u001b[0m                 \u001b[0;32mraise\u001b[0m \u001b[0me1\u001b[0m\u001b[0;34m\u001b[0m\u001b[0;34m\u001b[0m\u001b[0m\n",
      "\u001b[0;32m~/anaconda3/envs/sf_yass/lib/python3.8/site-packages/pandas/core/indexes/base.py\u001b[0m in \u001b[0;36mget_value\u001b[0;34m(self, series, key)\u001b[0m\n\u001b[1;32m   4403\u001b[0m         \u001b[0mk\u001b[0m \u001b[0;34m=\u001b[0m \u001b[0mself\u001b[0m\u001b[0;34m.\u001b[0m\u001b[0m_convert_scalar_indexer\u001b[0m\u001b[0;34m(\u001b[0m\u001b[0mk\u001b[0m\u001b[0;34m,\u001b[0m \u001b[0mkind\u001b[0m\u001b[0;34m=\u001b[0m\u001b[0;34m\"getitem\"\u001b[0m\u001b[0;34m)\u001b[0m\u001b[0;34m\u001b[0m\u001b[0;34m\u001b[0m\u001b[0m\n\u001b[1;32m   4404\u001b[0m         \u001b[0;32mtry\u001b[0m\u001b[0;34m:\u001b[0m\u001b[0;34m\u001b[0m\u001b[0;34m\u001b[0m\u001b[0m\n\u001b[0;32m-> 4405\u001b[0;31m             \u001b[0;32mreturn\u001b[0m \u001b[0mself\u001b[0m\u001b[0;34m.\u001b[0m\u001b[0m_engine\u001b[0m\u001b[0;34m.\u001b[0m\u001b[0mget_value\u001b[0m\u001b[0;34m(\u001b[0m\u001b[0ms\u001b[0m\u001b[0;34m,\u001b[0m \u001b[0mk\u001b[0m\u001b[0;34m,\u001b[0m \u001b[0mtz\u001b[0m\u001b[0;34m=\u001b[0m\u001b[0mgetattr\u001b[0m\u001b[0;34m(\u001b[0m\u001b[0mseries\u001b[0m\u001b[0;34m.\u001b[0m\u001b[0mdtype\u001b[0m\u001b[0;34m,\u001b[0m \u001b[0;34m\"tz\"\u001b[0m\u001b[0;34m,\u001b[0m \u001b[0;32mNone\u001b[0m\u001b[0;34m)\u001b[0m\u001b[0;34m)\u001b[0m\u001b[0;34m\u001b[0m\u001b[0;34m\u001b[0m\u001b[0m\n\u001b[0m\u001b[1;32m   4406\u001b[0m         \u001b[0;32mexcept\u001b[0m \u001b[0mKeyError\u001b[0m \u001b[0;32mas\u001b[0m \u001b[0me1\u001b[0m\u001b[0;34m:\u001b[0m\u001b[0;34m\u001b[0m\u001b[0;34m\u001b[0m\u001b[0m\n\u001b[1;32m   4407\u001b[0m             \u001b[0;32mif\u001b[0m \u001b[0mlen\u001b[0m\u001b[0;34m(\u001b[0m\u001b[0mself\u001b[0m\u001b[0;34m)\u001b[0m \u001b[0;34m>\u001b[0m \u001b[0;36m0\u001b[0m \u001b[0;32mand\u001b[0m \u001b[0;34m(\u001b[0m\u001b[0mself\u001b[0m\u001b[0;34m.\u001b[0m\u001b[0mholds_integer\u001b[0m\u001b[0;34m(\u001b[0m\u001b[0;34m)\u001b[0m \u001b[0;32mor\u001b[0m \u001b[0mself\u001b[0m\u001b[0;34m.\u001b[0m\u001b[0mis_boolean\u001b[0m\u001b[0;34m(\u001b[0m\u001b[0;34m)\u001b[0m\u001b[0;34m)\u001b[0m\u001b[0;34m:\u001b[0m\u001b[0;34m\u001b[0m\u001b[0;34m\u001b[0m\u001b[0m\n",
      "\u001b[0;32mpandas/_libs/index.pyx\u001b[0m in \u001b[0;36mpandas._libs.index.IndexEngine.get_value\u001b[0;34m()\u001b[0m\n",
      "\u001b[0;32mpandas/_libs/index.pyx\u001b[0m in \u001b[0;36mpandas._libs.index.IndexEngine.get_value\u001b[0;34m()\u001b[0m\n",
      "\u001b[0;32mpandas/_libs/index.pyx\u001b[0m in \u001b[0;36mpandas._libs.index.IndexEngine.get_loc\u001b[0;34m()\u001b[0m\n",
      "\u001b[0;32mpandas/_libs/hashtable_class_helper.pxi\u001b[0m in \u001b[0;36mpandas._libs.hashtable.PyObjectHashTable.get_item\u001b[0;34m()\u001b[0m\n",
      "\u001b[0;32mpandas/_libs/hashtable_class_helper.pxi\u001b[0m in \u001b[0;36mpandas._libs.hashtable.PyObjectHashTable.get_item\u001b[0;34m()\u001b[0m\n",
      "\u001b[0;31mKeyError\u001b[0m: 'snr'"
     ]
    }
   ],
   "source": [
    "# regenerate scatter plots\n",
    "# seems not all sorted units are there;\n",
    "sorter_names = dataframes['perf_by_units']['sorter_name']\n",
    "\n",
    "ctr=1\n",
    "for sorter in sorter_list:\n",
    "    idxs = np.where(sorter_names==sorter)[0]\n",
    "\n",
    "    accuracy = []\n",
    "    snr = []\n",
    "    for idx in idxs:\n",
    "        accuracy.append(dataframes['perf_by_units'].iloc[idx]['accuracy'])\n",
    "        snr.append(dataframes['perf_by_units'].iloc[idx]['snr'])\n",
    "\n",
    "    ax=plt.subplot(2,4,ctr)\n",
    "    print (\"sorter: \", sorter, \" idx: \", idxs.shape)\n",
    "    plt.scatter(snr, accuracy)\n",
    "    plt.title(sorter)\n",
    "    ctr+=1\n",
    "    \n",
    "plt.show()"
   ]
  },
  {
   "cell_type": "code",
   "execution_count": 127,
   "metadata": {},
   "outputs": [
    {
     "data": {
      "text/plain": [
       "dict_keys(['run_times', 'perf_by_units', 'count_units'])"
      ]
     },
     "execution_count": 127,
     "metadata": {},
     "output_type": "execute_result"
    }
   ],
   "source": [
    " dataframes['perf_by_units']"
   ]
  },
  {
   "cell_type": "code",
   "execution_count": 6,
   "metadata": {},
   "outputs": [
    {
     "name": "stdout",
     "output_type": "stream",
     "text": [
      "(1336063, 2)\n",
      "[   0    1    2 ... 1092 1093 1094]\n"
     ]
    }
   ],
   "source": [
    "yass06 = np.load('/media/cat/1TB/spikesorting/study_mearec_250cells_Neuropixels-384chans_duration600s_noise10uV_2020-02-28/spike_train_eLife_Yass06.npy')\n",
    "print (yass06.shape)\n",
    "\n",
    "data = np.load('/media/cat/1TB/spikesorting/study_mearec_250cells_Neuropixels-384chans_duration600s_noise10uV_2020-02-28/sortings/rec0[#]yass.npz')\n",
    "sampling_frequency = data['sampling_frequency']\n",
    "spike_labels = yass06[:,1]\n",
    "spike_indexes = yass06[:,0]\n",
    "unit_ids = np.unique(spike_labels)\n",
    "print (unit_ids)\n",
    "\n",
    "np.savez('/media/cat/1TB/spikesorting/study_mearec_250cells_Neuropixels-384chans_duration600s_noise10uV_2020-02-28/sortings/rec0[#]yass06.npz',\n",
    "        sampling_frequency = sampling_frequency,\n",
    "         spike_labels = spike_labels,\n",
    "         spike_indexes = spike_indexes,\n",
    "         unit_ids = unit_ids\n",
    "        )\n"
   ]
  },
  {
   "cell_type": "code",
   "execution_count": null,
   "metadata": {},
   "outputs": [],
   "source": []
  },
  {
   "cell_type": "markdown",
   "metadata": {},
   "source": [
    "# Figure 1 - ground truth study results"
   ]
  },
  {
   "cell_type": "code",
   "execution_count": 5,
   "metadata": {},
   "outputs": [
    {
     "data": {
      "image/png": "[encoded data removed]",
      "text/plain": [
       "<Figure size 1152x144 with 1 Axes>"
      ]
     },
     "metadata": {
      "needs_background": "light"
     },
     "output_type": "display_data"
    }
   ],
   "source": [
    "# activity levels on the probe\n",
    "\n",
    "plt.figure(figsize=(16,2))\n",
    "ax = plt.subplot(111)\n",
    "w = sw.plot_activity_map(RX, trange=(0,20), transpose=True, ax=ax, background='w', frame=True)\n",
    "ax.plot((-1800,-1700), (-120,-120), 'k-')\n",
    "ax.annotate('100$\\\\mu m$',(-1750,-220), ha='center');\n"
   ]
  },
  {
   "cell_type": "code",
   "execution_count": 6,
   "metadata": {},
   "outputs": [
    {
     "data": {
      "text/plain": [
       "(-750, 4435.259765625)"
      ]
     },
     "execution_count": 6,
     "metadata": {},
     "output_type": "execute_result"
    },
    {
     "data": {
      "image/png": "[encoded data removed]",
      "text/plain": [
       "<Figure size 1152x432 with 1 Axes>"
      ]
     },
     "metadata": {},
     "output_type": "display_data"
    }
   ],
   "source": [
    "# example data traces\n",
    "\n",
    "plt.figure(figsize=(16,6))\n",
    "ax = plt.subplot(111)\n",
    "w = sw.plot_timeseries(RX, channel_ids=range(10,18), color='k', ax=ax, trange=(1,2))\n",
    "ax.axis('off')\n",
    "p = ax.get_position()\n",
    "p.y0 = 0.58\n",
    "ax.set_position(p)\n",
    "ax.set_xticks(())\n",
    "ax.plot((1.01,1.11),(-400,-400),'k-')\n",
    "ax.annotate('100ms',(1.051,-750), ha='center');\n",
    "ax.set_ylim((-750,ax.set_ylim()[1]))"
   ]
  },
  {
   "cell_type": "code",
   "execution_count": 11,
   "metadata": {},
   "outputs": [],
   "source": [
    "plt.figure()\n",
    "ax = plt.subplot(111)\n",
    "n = []\n",
    "for s in sorter_list:\n",
    "    n.append(len(study.get_sorting(s).get_unit_ids()))\n",
    "ax.bar(range(len(sorter_list)), n, color='tab:blue')\n",
    "ax.set_xticks(range(len(sorter_names_short)))\n",
    "ax.set_xticklabels(sorter_names_short, rotation=60, ha='center')\n",
    "ax.set_ylabel('Units detected') \n",
    "ax.axhline(250, ls='--', color=\"grey\")\n",
    "clear_axes(ax)"
   ]
  },
  {
   "cell_type": "code",
   "execution_count": 12,
   "metadata": {},
   "outputs": [],
   "source": [
    "plt.figure()\n",
    "ax = plt.subplot(111)\n",
    "p = ax.get_position()\n",
    "p.x1=0.85\n",
    "ax.set_position(p)\n",
    "sns.set_palette(sns.color_palette(\"Set1\"))\n",
    "df = pd.melt(dataframes['perf_by_units'], id_vars='sorter_name', var_name='Metric', value_name='Score', \n",
    "        value_vars=('accuracy','precision', 'recall'))\n",
    "sns.swarmplot(data=df, x='sorter_name', y='Score', hue='Metric', dodge=True,\n",
    "                order=sorter_list,  s=3, ax=ax)\n",
    "ax.set_xticklabels(sorter_names_short, rotation=30, ha='center')\n",
    "ax.legend(bbox_to_anchor=(1.0, 1), loc=2, borderaxespad=0., frameon=False, fontsize=8, markerscale=0.5)\n",
    "ax.set_xlabel(None);\n",
    "ax.set_ylabel('Score');\n",
    "clear_axes(ax)"
   ]
  },
  {
   "cell_type": "code",
   "execution_count": 22,
   "metadata": {},
   "outputs": [],
   "source": [
    "#######################################\n",
    "########  BAR PLOTS \n",
    "####################################\n",
    "plt.figure()\n",
    "ax = plt.subplot(111)\n",
    "p = ax.get_position()\n",
    "p.x1=0.85\n",
    "ax.set_position(p)\n",
    "df = pd.melt(dataframes['count_units'], id_vars='sorter_name', var_name='Type', value_name='Units', \n",
    "        value_vars=('num_well_detected', 'num_false_positive', 'num_redundant', 'num_overmerged'))\n",
    "sns.set_palette(sns.color_palette(\"Set1\"))\n",
    "sns.barplot(x='sorter_name', y='Units', hue='Type', data=df,\n",
    "                order=sorter_list, ax=ax)\n",
    "ax.set_xticklabels(sorter_names_short, rotation=30, ha='right')\n",
    "ax.axhline(250, ls='--', color=\"grey\")\n",
    "ax.legend(bbox_to_anchor=(1.0, 1), loc=2, borderaxespad=0., frameon=False, fontsize=8, markerscale=0.1)\n",
    "for t, l in zip(ax.legend_.texts, (\"Well detected\", \"False positive\", \"Redundant\", \"Overmerged\")): t.set_text(l)\n",
    "ax.set_xlabel(None);\n",
    "clear_axes(ax)\n",
    "\n"
   ]
  },
  {
   "cell_type": "code",
   "execution_count": 21,
   "metadata": {},
   "outputs": [
    {
     "ename": "IndexError",
     "evalue": "list index out of range",
     "output_type": "error",
     "traceback": [
      "\u001b[0;31m---------------------------------------------------------------------------\u001b[0m",
      "\u001b[0;31mIndexError\u001b[0m                                Traceback (most recent call last)",
      "\u001b[0;32m<ipython-input-21-b5051097152f>\u001b[0m in \u001b[0;36m<module>\u001b[0;34m\u001b[0m\n\u001b[1;32m     30\u001b[0m \u001b[0;31m# add snr to the by-unit table\u001b[0m\u001b[0;34m\u001b[0m\u001b[0;34m\u001b[0m\u001b[0;34m\u001b[0m\u001b[0m\n\u001b[1;32m     31\u001b[0m \u001b[0;32mif\u001b[0m \u001b[0;34m'snr'\u001b[0m \u001b[0;32mnot\u001b[0m \u001b[0;32min\u001b[0m \u001b[0mdf\u001b[0m\u001b[0;34m.\u001b[0m\u001b[0mkeys\u001b[0m\u001b[0;34m(\u001b[0m\u001b[0;34m)\u001b[0m\u001b[0;34m:\u001b[0m\u001b[0;34m\u001b[0m\u001b[0;34m\u001b[0m\u001b[0m\n\u001b[0;32m---> 32\u001b[0;31m     \u001b[0msnr_d\u001b[0m \u001b[0;34m=\u001b[0m \u001b[0;34m{\u001b[0m\u001b[0mk\u001b[0m\u001b[0;34m:\u001b[0m\u001b[0msnr\u001b[0m\u001b[0;34m[\u001b[0m\u001b[0mk\u001b[0m\u001b[0;34m]\u001b[0m \u001b[0;32mfor\u001b[0m \u001b[0mi\u001b[0m\u001b[0;34m,\u001b[0m\u001b[0mk\u001b[0m \u001b[0;32min\u001b[0m \u001b[0menumerate\u001b[0m\u001b[0;34m(\u001b[0m\u001b[0mSX_gt\u001b[0m\u001b[0;34m.\u001b[0m\u001b[0mget_unit_ids\u001b[0m\u001b[0;34m(\u001b[0m\u001b[0;34m)\u001b[0m\u001b[0;34m)\u001b[0m\u001b[0;34m}\u001b[0m\u001b[0;34m\u001b[0m\u001b[0;34m\u001b[0m\u001b[0m\n\u001b[0m\u001b[1;32m     33\u001b[0m     \u001b[0mdf\u001b[0m\u001b[0;34m[\u001b[0m\u001b[0;34m'snr'\u001b[0m\u001b[0;34m]\u001b[0m \u001b[0;34m=\u001b[0m \u001b[0mdf\u001b[0m\u001b[0;34m[\u001b[0m\u001b[0;34m'gt_unit_id'\u001b[0m\u001b[0;34m]\u001b[0m\u001b[0;34m.\u001b[0m\u001b[0mmap\u001b[0m\u001b[0;34m(\u001b[0m\u001b[0msnr_d\u001b[0m\u001b[0;34m)\u001b[0m\u001b[0;34m\u001b[0m\u001b[0;34m\u001b[0m\u001b[0m\n\u001b[1;32m     34\u001b[0m \u001b[0;34m\u001b[0m\u001b[0m\n",
      "\u001b[0;32m<ipython-input-21-b5051097152f>\u001b[0m in \u001b[0;36m<dictcomp>\u001b[0;34m(.0)\u001b[0m\n\u001b[1;32m     30\u001b[0m \u001b[0;31m# add snr to the by-unit table\u001b[0m\u001b[0;34m\u001b[0m\u001b[0;34m\u001b[0m\u001b[0;34m\u001b[0m\u001b[0m\n\u001b[1;32m     31\u001b[0m \u001b[0;32mif\u001b[0m \u001b[0;34m'snr'\u001b[0m \u001b[0;32mnot\u001b[0m \u001b[0;32min\u001b[0m \u001b[0mdf\u001b[0m\u001b[0;34m.\u001b[0m\u001b[0mkeys\u001b[0m\u001b[0;34m(\u001b[0m\u001b[0;34m)\u001b[0m\u001b[0;34m:\u001b[0m\u001b[0;34m\u001b[0m\u001b[0;34m\u001b[0m\u001b[0m\n\u001b[0;32m---> 32\u001b[0;31m     \u001b[0msnr_d\u001b[0m \u001b[0;34m=\u001b[0m \u001b[0;34m{\u001b[0m\u001b[0mk\u001b[0m\u001b[0;34m:\u001b[0m\u001b[0msnr\u001b[0m\u001b[0;34m[\u001b[0m\u001b[0mk\u001b[0m\u001b[0;34m]\u001b[0m \u001b[0;32mfor\u001b[0m \u001b[0mi\u001b[0m\u001b[0;34m,\u001b[0m\u001b[0mk\u001b[0m \u001b[0;32min\u001b[0m \u001b[0menumerate\u001b[0m\u001b[0;34m(\u001b[0m\u001b[0mSX_gt\u001b[0m\u001b[0;34m.\u001b[0m\u001b[0mget_unit_ids\u001b[0m\u001b[0;34m(\u001b[0m\u001b[0;34m)\u001b[0m\u001b[0;34m)\u001b[0m\u001b[0;34m}\u001b[0m\u001b[0;34m\u001b[0m\u001b[0;34m\u001b[0m\u001b[0m\n\u001b[0m\u001b[1;32m     33\u001b[0m     \u001b[0mdf\u001b[0m\u001b[0;34m[\u001b[0m\u001b[0;34m'snr'\u001b[0m\u001b[0;34m]\u001b[0m \u001b[0;34m=\u001b[0m \u001b[0mdf\u001b[0m\u001b[0;34m[\u001b[0m\u001b[0;34m'gt_unit_id'\u001b[0m\u001b[0;34m]\u001b[0m\u001b[0;34m.\u001b[0m\u001b[0mmap\u001b[0m\u001b[0;34m(\u001b[0m\u001b[0msnr_d\u001b[0m\u001b[0;34m)\u001b[0m\u001b[0;34m\u001b[0m\u001b[0;34m\u001b[0m\u001b[0m\n\u001b[1;32m     34\u001b[0m \u001b[0;34m\u001b[0m\u001b[0m\n",
      "\u001b[0;31mIndexError\u001b[0m: list index out of range"
     ]
    }
   ],
   "source": [
    "# precision vs. recall and accuracy vs. SNR\n",
    "fig = plt.figure(figsize=(14, 4))\n",
    "\n",
    "sns.set_palette(sns.color_palette(\"deep\"))\n",
    "\n",
    "axesA = []\n",
    "for i,s in enumerate(sorter_list):\n",
    "    ax = plt.subplot(2,len(sorter_list),i+1)\n",
    "    axesA.append(ax)\n",
    "\n",
    "    g = sns.scatterplot(data=dataframes['perf_by_units'].loc[dataframes['perf_by_units'].sorter_name==s], \n",
    "                    x='precision', y='recall', s=30, edgecolor=None, alpha=0.1)\n",
    "    ax.set_title(sorter_names[i])\n",
    "    ax.set_aspect('equal')\n",
    "    clear_axes(ax)\n",
    "    ax.set_xlabel('Precision')\n",
    "    ax.set_ylabel('Recall')\n",
    "\n",
    "for ax in axesA[1:]:\n",
    "    axesA[0].get_shared_y_axes().join(axesA[0], ax)\n",
    "    ax.set_yticklabels([])\n",
    "    ax.set_ylabel('')\n",
    "    ax.set_xlabel('')\n",
    "    ax.autoscale()\n",
    "    \n",
    "############### B\n",
    "\n",
    "df = dataframes['perf_by_units']\n",
    "\n",
    "# add snr to the by-unit table\n",
    "if 'snr' not in df.keys():\n",
    "    snr_d = {k:snr[k] for i,k in enumerate(SX_gt.get_unit_ids())}\n",
    "    df['snr'] = df['gt_unit_id'].map(snr_d)\n",
    "    \n",
    "# \n",
    "axesB = []\n",
    "for i,s in enumerate(sorter_list):\n",
    "    ax = plt.subplot(2,len(sorter_list),len(sorter_list)+i+1)\n",
    "    axesB.append(ax)\n",
    "    \n",
    "    g = sns.scatterplot(data=dataframes['perf_by_units'].loc[dataframes['perf_by_units'].sorter_name==s], \n",
    "                        x='snr', y='accuracy', s=30, alpha=0.2)\n",
    "    clear_axes(ax)\n",
    "    ax.set_xlabel('Ground truth SNR')\n",
    "    ax.set_ylabel('Accuracy')\n",
    "    \n",
    "for ax in axesB[1:]:\n",
    "    axesB[0].get_shared_y_axes().join(axesB[0], ax)\n",
    "    ax.set_yticklabels([])\n",
    "    ax.set_ylabel('')\n",
    "    ax.set_xlabel('')\n",
    "    ax.autoscale()\n",
    "    "
   ]
  },
  {
   "cell_type": "markdown",
   "metadata": {},
   "source": [
    "## Extract False positives"
   ]
  },
  {
   "cell_type": "code",
   "execution_count": 39,
   "metadata": {},
   "outputs": [
    {
     "name": "stderr",
     "output_type": "stream",
     "text": [
      "/Users/abuccino/anaconda3/envs/si/lib/python3.8/site-packages/ipykernel/ipkernel.py:287: DeprecationWarning: `should_run_async` will not call `transform_cell` automatically in the future. Please pass the result to `transformed_cell` argument and any exception that happen during thetransform in `preprocessing_exc_tuple` in IPython 7.17 and above.\n",
      "  and should_run_async(code)\n"
     ]
    }
   ],
   "source": [
    "comparisons = study.comparisons"
   ]
  },
  {
   "cell_type": "code",
   "execution_count": 41,
   "metadata": {},
   "outputs": [],
   "source": [
    "yass_comp = comparisons[('rec0', 'yass')]"
   ]
  },
  {
   "cell_type": "code",
   "execution_count": 44,
   "metadata": {},
   "outputs": [
    {
     "name": "stderr",
     "output_type": "stream",
     "text": [
      "/Users/abuccino/anaconda3/envs/si/lib/python3.8/site-packages/ipykernel/ipkernel.py:287: DeprecationWarning: `should_run_async` will not call `transform_cell` automatically in the future. Please pass the result to `transformed_cell` argument and any exception that happen during thetransform in `preprocessing_exc_tuple` in IPython 7.17 and above.\n",
      "  and should_run_async(code)\n"
     ]
    }
   ],
   "source": [
    "fp_units = yass_comp.get_false_positive_units()\n",
    "overmerged_units = yass_comp.get_overmerged_units()\n",
    "redundant_units = yass_comp.get_redundant_units()"
   ]
  },
  {
   "cell_type": "markdown",
   "metadata": {},
   "source": [
    "# Figure 3 - comparison of sorter outputs and ensembe sorting"
   ]
  },
  {
   "cell_type": "code",
   "execution_count": 11,
   "metadata": {},
   "outputs": [
    {
     "name": "stdout",
     "output_type": "stream",
     "text": [
      "loading multicomparison\n"
     ]
    }
   ],
   "source": [
    "# perform an all-to-all multicomparison or load it from\n",
    "# disk if file exists\n",
    "\n",
    "sortings = []\n",
    "for s in sorter_list:\n",
    "    sortings.append(study.get_sorting(s))\n",
    "\n",
    "cmp_folder = study_folder / 'multicomparison/'\n",
    "if not os.path.isdir(cmp_folder):\n",
    "    os.mkdir(cmp_folder)\n",
    "if not os.path.isfile(cmp_folder / 'multicomparison.gpickle'):\n",
    "    mcmp = sc.compare_multiple_sorters(sorting_list=sortings, name_list=sorter_names_short, \n",
    "                                   verbose=False, match_score=0.5)\n",
    "    print('saving multicomparison')\n",
    "    mcmp.dump(cmp_folder)\n",
    "else:\n",
    "    print('loading multicomparison')\n",
    "    mcmp = sc.MultiSortingComparison.load_multicomparison(cmp_folder)\n",
    "    \n",
    "mcmp_graph = mcmp.graph.copy()\n"
   ]
  },
  {
   "cell_type": "code",
   "execution_count": 12,
   "metadata": {},
   "outputs": [
    {
     "name": "stdout",
     "output_type": "stream",
     "text": [
      "different gt units:  20 [213, 213, 213, 146, 213, 213]\n",
      "different gt units:  35 [189, 189, 185, 189, 189]\n",
      "different gt units:  42 [224, 224, 224, 76, 224, 224]\n",
      "different gt units:  46 [108, 108, 108, 90, 108, 108]\n",
      "FP unit found by >1 sorter:  92\n",
      "different gt units:  102 [153, 197, 197, 197, 197, 197]\n",
      "different gt units:  103 [175, 175, 175, 11, 175, 175]\n",
      "FP unit found by >1 sorter:  111\n",
      "different gt units:  114 [157, 157, 107, 157, 157, 157]\n",
      "different gt units:  149 [78, 99, 99, 99, 99]\n",
      "FP unit found by >1 sorter:  150\n",
      "FP unit found by >1 sorter:  158\n",
      "different gt units:  162 [179, 196, 196, 196, 196, 196]\n",
      "different gt units:  284 [185, 185, 185, 177, 185]\n",
      "different gt units:  316 [90, 90, 90, 57, 90]\n",
      "FP unit found by >1 sorter:  418\n",
      "FP unit found by >1 sorter:  549\n",
      "different gt units:  673 [129, 182]\n"
     ]
    }
   ],
   "source": [
    "# get sorting extractors with unit with no agreement (minimum agreement = 1) and one\n",
    "# with at least 2 sorters in agreement\n",
    "not_in_agreement = mcmp.get_agreement_sorting(minimum_agreement_count=1, minimum_agreement_count_only=True)\n",
    "in_agreement = mcmp.get_agreement_sorting(minimum_agreement_count=2)\n",
    "\n",
    "# score these against ground truth\n",
    "cmp_no_agr = sc.compare_sorter_to_ground_truth(SX_gt, not_in_agreement)\n",
    "cmp_agr = sc.compare_sorter_to_ground_truth(SX_gt, in_agreement)\n",
    "\n",
    "# now collect results for each sorter:\n",
    "\n",
    "# create dict to collect results\n",
    "results = {'TP':{}, 'FP':{}, 'SNR':{}}\n",
    "ns = len(sorter_names_short)\n",
    "for s in sorter_names_short:\n",
    "    results['TP'][s] = dict(zip(range(1,ns+1), [0]*(ns+1)))\n",
    "    results['FP'][s] = dict(zip(range(1,ns+1), [0]*(ns+1)))\n",
    "    results['SNR'][s] = dict(zip(range(1,ns+1), [[]]*(ns+1)))\n",
    "    \n",
    "# sorter names\n",
    "dict_names = dict(zip(sorter_names_short, sorter_list))\n",
    "\n",
    "# iterate over all units gathered from subgraphs\n",
    "for u in  mcmp._new_units.keys():\n",
    "    found_in_gt = []\n",
    "    gt_index = []\n",
    "    # check if units have a match in ground truth, store boolen\n",
    "    for u2 in mcmp._new_units[u]['sorter_unit_ids'].items():\n",
    "        found_in_gt.append(u2[1] in study.comparisons['rec0',dict_names[u2[0]]].best_match_12.values)\n",
    "        if found_in_gt[-1]:\n",
    "            gt_index.append(np.where(study.comparisons['rec0',dict_names[u2[0]]].best_match_12==u2[1])[0][0])\n",
    "    if len(set(gt_index))>1:\n",
    "        print('different gt units: ',u, gt_index)\n",
    "    if np.sum(found_in_gt)==len(found_in_gt):\n",
    "#     if np.sum(found_in_gt)>0:#==len(found_in_gt):  # use this if interested in equal matches\n",
    "        key = 'TP'\n",
    "    else:\n",
    "        key = 'FP'\n",
    "        if len(found_in_gt)>1:\n",
    "            print('FP unit found by >1 sorter: ',u)\n",
    "        \n",
    "    for i,u2 in enumerate(mcmp._new_units[u]['sorter_unit_ids'].items()):\n",
    "#         results[key][u2[0]][np.sum(found_in_gt)] += 1 # use this if interested in equal matches\n",
    "        results[key][u2[0]][len(found_in_gt)] += 1\n",
    "        if key is 'TP':\n",
    "            # something odd with nested oython dicts requires this:\n",
    "            d = results['SNR'][u2[0]][len(found_in_gt)].copy()\n",
    "            d.append(snr[gt_index[i]])\n",
    "            results['SNR'][u2[0]][len(found_in_gt)] = d\n",
    "            # this fails, I wonder why:\n",
    "            # results['SNR'][u2[0]][len(found_in_gt)].append(snr[gt_index[i]])\n"
   ]
  },
  {
   "cell_type": "code",
   "execution_count": 13,
   "metadata": {},
   "outputs": [
    {
     "data": {
      "image/png": "[encoded data removed]",
      "text/plain": [
       "<Figure size 432x288 with 1 Axes>"
      ]
     },
     "metadata": {},
     "output_type": "display_data"
    }
   ],
   "source": [
    "w = sw.plot_multicomp_agreement(mcmp, plot_type='pie')\n"
   ]
  },
  {
   "cell_type": "code",
   "execution_count": 14,
   "metadata": {},
   "outputs": [
    {
     "data": {
      "image/png": "[encoded data removed]",
      "text/plain": [
       "<Figure size 864x172.8 with 7 Axes>"
      ]
     },
     "metadata": {
      "needs_background": "light"
     },
     "output_type": "display_data"
    }
   ],
   "source": [
    "w = sw.plot_multicomp_agreement_by_sorter(mcmp, show_legend=True)\n"
   ]
  },
  {
   "cell_type": "code",
   "execution_count": 15,
   "metadata": {},
   "outputs": [
    {
     "data": {
      "image/png": "[encoded data removed]",
      "text/plain": [
       "<Figure size 1008x288 with 12 Axes>"
      ]
     },
     "metadata": {
      "needs_background": "light"
     },
     "output_type": "display_data"
    }
   ],
   "source": [
    "fig = plt.figure(figsize=(14,4))\n",
    "\n",
    "axes = []\n",
    "for i,s in enumerate(results['TP'].keys()):\n",
    "    ax = plt.subplot(2,len(sorter_list), i+1)\n",
    "    ax.bar(results['FP'][s].keys(), list(results['FP'][s].values()), alpha=0.5, width = 0.6, color='r', label='false positive')\n",
    "    ax.bar(results['TP'][s].keys(), list(results['TP'][s].values()), bottom=list(results['FP'][s].values()), alpha=0.5, width = 0.6, color='b', label='matched')\n",
    "    ax.set_xticks(range(1,len(sorter_list)+1))\n",
    "    ax.set_xticklabels(range(1,len(sorter_list)+1))\n",
    "    ax.set_title(s)\n",
    "    clear_axes(ax)\n",
    "    axes.append(ax)\n",
    "    if i == 0:\n",
    "        ax.set_ylabel('Number of units')\n",
    "    else:\n",
    "        ax.get_shared_y_axes().join(axes[0], ax)\n",
    "        ax.set_yticklabels([])\n",
    "    \n",
    "    ax = plt.subplot(2,len(sorter_list), len(sorter_list)+i+1)\n",
    "    d  = results['SNR'][s]\n",
    "    sns.boxenplot(data=pd.DataFrame([pd.Series(d[k]) for k in d.keys()]).T, color='b', ax=ax)\n",
    "    ax.set_xticks(range(0,len(sorter_list)))\n",
    "    ax.set_xticklabels(range(1,len(sorter_list)+1))\n",
    "    clear_axes(ax)\n",
    "    axes.append(ax)\n",
    "    if i == 0:\n",
    "        ax.set_ylabel('Ground truth SNR')\n",
    "        ax.set_xlabel('Found by # sorters')\n",
    "    else:\n",
    "        ax.get_shared_y_axes().join(axes[1], ax)\n",
    "        ax.set_yticklabels([])\n",
    "    "
   ]
  },
  {
   "cell_type": "code",
   "execution_count": 16,
   "metadata": {},
   "outputs": [
    {
     "name": "stdout",
     "output_type": "stream",
     "text": [
      "all sorters, all units:\n",
      "   in # sorters  # units  percentage\n",
      "0           1.0    659.0       72.34\n",
      "1           2.0     18.0        1.98\n",
      "2           3.0     27.0        2.96\n",
      "3           4.0     30.0        3.29\n",
      "4           5.0     38.0        4.17\n",
      "5           6.0    139.0       15.26\n",
      "\n",
      "per sorter:\n",
      "    HS   HS%   KS   KS%   IC   IC%   SC   SC%  TDC  TDC%  HDS  HDS%\n",
      "0   68  29.2  168  40.5   50  17.7  129  37.6   18   9.5  226  49.5\n",
      "1    2   0.9   13   3.1    6   2.1    5   1.5    2   1.1    8   1.8\n",
      "2    2   0.9   27   6.5   21   7.4    7   2.0    0   0.0   24   5.3\n",
      "3    2   0.9   30   7.2   30  10.6   28   8.2    2   1.1   28   6.1\n",
      "4   20   8.6   38   9.2   37  13.1   35  10.2   28  14.8   32   7.0\n",
      "5  139  59.7  139  33.5  139  49.1  139  40.5  139  73.5  139  30.4\n",
      "HS [42, 1, 2, 0, 1, 0]\n",
      "KS [164, 1, 2, 0, 1, 0]\n",
      "IC [45, 2, 2, 0, 0, 0]\n",
      "SC [97, 1, 0, 0, 1, 0]\n",
      "TDC [11, 0, 0, 0, 1, 0]\n",
      "HDS [214, 1, 0, 0, 1, 0]\n"
     ]
    }
   ],
   "source": [
    "# numbers for figure above\n",
    "\n",
    "sg_names, sg_units = mcmp.compute_subgraphs()\n",
    "v, c = np.unique([len(np.unique(s)) for s in sg_names], return_counts=True)\n",
    "df = pd.DataFrame(np.vstack((v,c,np.round(100*c/np.sum(c),2))).T,\n",
    "             columns=('in # sorters','# units','percentage'))\n",
    "print('all sorters, all units:')\n",
    "print(df)\n",
    "df = pd.DataFrame()\n",
    "for i, name in enumerate(sorter_names_short):\n",
    "    v, c = np.unique([len(np.unique(sn)) for sn in sg_names if name in sn], return_counts=True)\n",
    "    cl = np.zeros(len(sorter_list), dtype=int)\n",
    "    cl[v.astype(int)-1] = c\n",
    "    df.insert(2*i,name,cl)\n",
    "    df.insert(2*i+1,name+'%',np.round(100*cl/np.sum(cl),1))\n",
    "print('\\nper sorter:')\n",
    "print(df)\n",
    "\n",
    "for i,s in enumerate(results['TP'].keys()):\n",
    "    print(s, list(results['FP'][s].values()))"
   ]
  }
 ],
 "metadata": {
  "kernelspec": {
   "display_name": "Python 3",
   "language": "python",
   "name": "python3"
  },
  "language_info": {
   "codemirror_mode": {
    "name": "ipython",
    "version": 3
   },
   "file_extension": ".py",
   "mimetype": "text/x-python",
   "name": "python",
   "nbconvert_exporter": "python",
   "pygments_lexer": "ipython3",
   "version": "3.8.3"
  },
  "nikola": {
   "category": "",
   "date": "2020-08-23 17:30:03 UTC+02:00",
   "description": "",
   "link": "",
   "slug": "ground-truth-comparison-and-ensemble-sorting-of-a-synthetic-neuropixels-recording",
   "tags": "paper",
   "title": "Ground truth comparison and ensemble sorting of a synthetic Neuropixels recording",
   "type": "text"
  }
 },
 "nbformat": 4,
 "nbformat_minor": 4
}
