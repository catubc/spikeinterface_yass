{
 "cells": [
  {
   "cell_type": "code",
   "execution_count": 1,
   "metadata": {},
   "outputs": [],
   "source": [
    "import numpy as np"
   ]
  },
  {
   "cell_type": "code",
   "execution_count": 3,
   "metadata": {},
   "outputs": [
    {
     "name": "stdout",
     "output_type": "stream",
     "text": [
      "(289, 161, 384)\n"
     ]
    }
   ],
   "source": [
    "fname_npz = '/media/cat/1TB/spikesorting/sortings/sortings/rec0[#]yass_original.npz'\n",
    "data = np.load(fname_npz)\n",
    "unit_ids = data['unit_ids']\n",
    "spike_labels = data['spike_labels']\n",
    "spike_indexes = data['spike_indexes']\n",
    "sampling_frequency = data['sampling_frequency']\n",
    "\n",
    "temps = np.load('/media/cat/1TB/spikesorting/yass/tmp/output/templates.npy')\n",
    "print (temps.shape)"
   ]
  },
  {
   "cell_type": "code",
   "execution_count": 4,
   "metadata": {},
   "outputs": [
    {
     "name": "stdout",
     "output_type": "stream",
     "text": [
      "unit_ids:  [  0   1   2   3   4   5   6   7   8   9  10  11  12  13  14  15  16  17\n",
      "  18  19  20  21  22  23  24  25  26  27  28  29  30  31  32  33  34  35\n",
      "  36  37  38  39  40  41  42  43  44  45  46  47  48  49  50  51  52  53\n",
      "  54  55  56  57  58  59  60  61  62  63  64  65  66  67  68  69  70  71\n",
      "  72  73  74  75  76  77  78  79  80  81  82  83  84  85  86  87  88  89\n",
      "  90  91  92  93  94  95  96  97  98  99 100 101 102 103 104 105 106 107\n",
      " 108 109 110 111 112 113 114 115 116 117 118 119 120 121 122 123 124 125\n",
      " 126 127 128 129 130 131 132 133 134 135 136 137 138 139 140 141 142 143\n",
      " 144 145 146 147 148 149 150 151 152 153 154 155 156 157 158 159 160 161\n",
      " 162 163 164 165 166 167 168 169 170 171 172 173 174 175 176 177 178 179\n",
      " 180 181 182 183 184 185 186 187 188 189 190 191 192 193 194 195 196 197\n",
      " 198 199 200 201 202 203 204 205 206 207 208 209 210 211 212 213 214 215\n",
      " 216 217 218 219 220 221 222 223 224 225 226 227 228 229 230 231 232 233\n",
      " 234 235 236 237 238 239 240 241 242 243 244 245 246 247 248 249 250 251\n",
      " 252 253 254 255 256 257 258 259 260 261 262 263 264 265 266 267 268 269\n",
      " 270 271 272 273 274 275 276 277 278 279 280 281 282 283 284 285 286 287\n",
      " 288]\n",
      "spike_labels:  (1053802,)\n",
      "<class 'numpy.int64'>\n",
      "spike_indexes:  (1053802,)\n",
      "sampling_frequency:  [32000.]\n"
     ]
    }
   ],
   "source": [
    "print (\"unit_ids: \", unit_ids)\n",
    "print (\"spike_labels: \", spike_labels.shape)\n",
    "print (type(spike_labels[0]))\n",
    "print (\"spike_indexes: \", spike_indexes.shape)\n",
    "print (\"sampling_frequency: \", sampling_frequency)\n"
   ]
  },
  {
   "cell_type": "code",
   "execution_count": 5,
   "metadata": {},
   "outputs": [
    {
     "name": "stdout",
     "output_type": "stream",
     "text": [
      "small_units:  [  4  17  23  38  43  63  88 105 106 107 144 146 158 162 163 184 185 205\n",
      " 223 224 228 239 242 260 261 265 266]\n",
      "268\n",
      "small_units:  [  4  17  23  38  43  63  88 105 106 107 144 146 158 162 163 184 185 205\n",
      " 223 224 228 239 242 260 261 265 266 268]\n",
      "unit_ids2:  [  0   1   2   3   4   5   6   7   8   9  10  11  12  13  14  15  16  17\n",
      "  18  19  20  21  22  23  24  25  26  27  28  29  30  31  32  33  34  35\n",
      "  36  37  38  39  40  41  42  43  44  45  46  47  48  49  50  51  52  53\n",
      "  54  55  56  57  58  59  60  61  62  63  64  65  66  67  68  69  70  71\n",
      "  72  73  74  75  76  77  78  79  80  81  82  83  84  85  86  87  88  89\n",
      "  90  91  92  93  94  95  96  97  98  99 100 101 102 103 104 105 106 107\n",
      " 108 109 110 111 112 113 114 115 116 117 118 119 120 121 122 123 124 125\n",
      " 126 127 128 129 130 131 132 133 134 135 136 137 138 139 140 141 142 143\n",
      " 144 145 146 147 148 149 150 151 152 153 154 155 156 157 158 159 160 161\n",
      " 162 163 164 165 166 167 168 169 170 171 172 173 174 175 176 177 178 179\n",
      " 180 181 182 183 184 185 186 187 188 189 190 191 192 193 194 195 196 197\n",
      " 198 199 200 201 202 203 204 205 206 207 208 209 210 211 212 213 214 215\n",
      " 216 217 218 219 220 221 222 223 224 225 226 227 228 229 230 231 232 233\n",
      " 234 235 236 237 238 239 240 241 242 243 244 245 246 247 248 249 250 251\n",
      " 252 253 254 255 256 257 258 259 260]\n",
      "spike_labels:  (1025431,) [210  11 108  89  49 167 134 130 211  39 153 111 255 150   9  63 143  91\n",
      "  56 241 102  96 245 105 229 131 105  56 195 194  98 134  47 144 219 159\n",
      " 215 168  54 110 103 212  37  16  32  23  70 234  10  25  56 134  27 244\n",
      " 121 101  57 106 102 145  85  78  18 196  16 157 148 232   2  64 216  70\n",
      "  83 145  33 199 135 106 190 150  46  83  38  72  16 226  56 119 173 232\n",
      "  89  76 215 146 108 237  63 154 152 132]\n",
      "spike_indexes:  (1025431,) [  26   69  132  137  149  160  193  202  230  242  243  291  337  340\n",
      "  351  368  391  412  436  447  481  532  536  580  605  612  662  688\n",
      "  697  720  721  749  793  818  839  882  941  955  966  966  970 1003\n",
      " 1036 1039 1039 1051 1104 1126 1132 1136 1140 1211 1216 1238 1262 1270\n",
      " 1271 1331 1361 1367 1409 1440 1477 1486 1505 1512 1524 1556 1562 1564\n",
      " 1575 1631 1657 1664 1673 1686 1697 1705 1750 1756 1764 1778 1789 1798\n",
      " 1800 1824 1841 1851 1894 1916 1940 1947 1970 1970 1972 1995 1996 2009\n",
      " 2032 2044]\n",
      "sampling_frequency:  [32000.]\n"
     ]
    }
   ],
   "source": [
    "\n",
    "# find all small units \n",
    "su_threshold=3\n",
    "ptps = temps.ptp(1).max(1)\n",
    "small_units=np.where(ptps<=su_threshold)[0]\n",
    "print (\"small_units: \", small_units)\n",
    "\n",
    "# find all units with < min_spikes:\n",
    "min_spikes = 10\n",
    "for k in unit_ids:\n",
    "    idx = np.where(spike_labels==k)[0]\n",
    "    if idx.shape[0]<min_spikes:\n",
    "        print (k)\n",
    "        small_units = np.append(small_units, k)\n",
    "\n",
    "# \n",
    "print (\"small_units: \", small_units)\n",
    "#        \n",
    "spike_labels2 = []\n",
    "spike_indexes2 = []\n",
    "ctr=0\n",
    "for k in range(unit_ids.shape[0]):\n",
    "    if k in small_units:\n",
    "        continue\n",
    "    \n",
    "    idx = np.where(spike_labels==k)[0]\n",
    "    spike_labels2.extend(np.zeros(idx.shape[0],'int64')+ctr)\n",
    "    spike_indexes2.extend(spike_indexes[idx])\n",
    "    ctr+=1\n",
    "\n",
    "# \n",
    "spike_indexes2 = np.array(spike_indexes2)    \n",
    "idx2 = np.argsort(spike_indexes2)\n",
    "spike_indexes2=spike_indexes2[idx2]\n",
    "spike_labels2 = np.array(spike_labels2)[idx2]\n",
    "    \n",
    "#   \n",
    "unit_ids2 = np.unique(spike_labels2)\n",
    "print (\"unit_ids2: \", unit_ids2)\n",
    "print (\"spike_labels: \", spike_labels2.shape, spike_labels2[:100])\n",
    "print (\"spike_indexes: \", spike_indexes2.shape, spike_indexes2[:100])\n",
    "print (\"sampling_frequency: \", sampling_frequency)\n",
    "\n",
    "np.savez('/media/cat/1TB/spikesorting/study_mearec_250cells_Neuropixels-384chans_duration600s_noise10uV_2020-02-28/sortings/rec0[#]yass.npz', \n",
    "        unit_ids=unit_ids2,\n",
    "        spike_labels=spike_labels2,\n",
    "        spike_indexes=spike_indexes2,\n",
    "        sampling_frequency=sampling_frequency)"
   ]
  },
  {
   "cell_type": "code",
   "execution_count": null,
   "metadata": {},
   "outputs": [],
   "source": []
  },
  {
   "cell_type": "code",
   "execution_count": null,
   "metadata": {},
   "outputs": [],
   "source": []
  },
  {
   "cell_type": "code",
   "execution_count": null,
   "metadata": {},
   "outputs": [],
   "source": []
  },
  {
   "cell_type": "code",
   "execution_count": null,
   "metadata": {},
   "outputs": [],
   "source": []
  },
  {
   "cell_type": "code",
   "execution_count": null,
   "metadata": {},
   "outputs": [],
   "source": []
  }
 ],
 "metadata": {
  "kernelspec": {
   "display_name": "Python 3",
   "language": "python",
   "name": "python3"
  },
  "language_info": {
   "codemirror_mode": {
    "name": "ipython",
    "version": 3
   },
   "file_extension": ".py",
   "mimetype": "text/x-python",
   "name": "python",
   "nbconvert_exporter": "python",
   "pygments_lexer": "ipython3",
   "version": "3.8.3"
  }
 },
 "nbformat": 4,
 "nbformat_minor": 4
}
